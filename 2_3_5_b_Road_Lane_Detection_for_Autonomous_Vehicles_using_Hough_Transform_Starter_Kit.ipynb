{
  "nbformat": 4,
  "nbformat_minor": 0,
  "metadata": {
    "colab": {
      "provenance": [],
      "authorship_tag": "ABX9TyN9NZCghgPiVI4YmeO9kbKt",
      "include_colab_link": true
    },
    "kernelspec": {
      "name": "python3",
      "display_name": "Python 3"
    },
    "language_info": {
      "name": "python"
    }
  },
  "cells": [
    {
      "cell_type": "markdown",
      "metadata": {
        "id": "view-in-github",
        "colab_type": "text"
      },
      "source": [
        "<a href=\"https://colab.research.google.com/github/Eric428-a/-LMS-Learning-Management-System/blob/master/2_3_5_b_Road_Lane_Detection_for_Autonomous_Vehicles_using_Hough_Transform_Starter_Kit.ipynb\" target=\"_parent\"><img src=\"https://colab.research.google.com/assets/colab-badge.svg\" alt=\"Open In Colab\"/></a>"
      ]
    },
    {
      "cell_type": "code",
      "source": [
        "# import the neccesary libraries"
      ],
      "metadata": {
        "id": "6R_xYn4LVPwt"
      },
      "execution_count": 5,
      "outputs": []
    },
    {
      "cell_type": "code",
      "source": [
        "import cv2  # Importing the OpenCV library for image processing"
      ],
      "metadata": {
        "id": "Q_VLGCaVnAbG"
      },
      "execution_count": 6,
      "outputs": []
    },
    {
      "cell_type": "code",
      "source": [
        "import matplotlib.pyplot as plt  # Importing the Matplotlib library for plotting"
      ],
      "metadata": {
        "id": "1eB-saWDnAca"
      },
      "execution_count": 7,
      "outputs": []
    },
    {
      "cell_type": "code",
      "source": [
        "import urllib.request  # Importing the urllib library for fetching data from URLs"
      ],
      "metadata": {
        "id": "Am4Jm1exnAgl"
      },
      "execution_count": 8,
      "outputs": []
    },
    {
      "cell_type": "code",
      "source": [
        "import numpy as np  # Importing the NumPy library for numerical computations"
      ],
      "metadata": {
        "id": "Yb_AX5UZVP7A"
      },
      "execution_count": 9,
      "outputs": []
    },
    {
      "cell_type": "code",
      "source": [],
      "metadata": {
        "id": "FSI6dRdUVP71"
      },
      "execution_count": null,
      "outputs": []
    },
    {
      "cell_type": "code",
      "source": [
        "# Function to preprocess the image"
      ],
      "metadata": {
        "id": "c3AE8MxkVEHT"
      },
      "execution_count": 10,
      "outputs": []
    },
    {
      "cell_type": "code",
      "source": [
        "def preprocess_image(image):\n",
        "    # Convert to grayscale\n",
        "    gray = cv2.cvtColor(image, cv2.COLOR_RGB2GRAY)  # Converting the image to grayscale\n",
        "\n",
        "    # Apply Gaussian blur\n",
        "    blur = cv2.GaussianBlur(gray, (5, 5), 0)  # Applying Gaussian blur to smooth the image\n",
        "\n",
        "    # Canny edge detection\n",
        "    edges = cv2.Canny(blur, 50, 150)  # Detecting edges using Canny edge detection\n",
        "\n",
        "    return edges  # Returning the preprocessed image"
      ],
      "metadata": {
        "id": "nLhsecllVELE"
      },
      "execution_count": 14,
      "outputs": []
    },
    {
      "cell_type": "code",
      "source": [],
      "metadata": {
        "id": "_dxZopUWVEQC"
      },
      "execution_count": null,
      "outputs": []
    },
    {
      "cell_type": "code",
      "source": [],
      "metadata": {
        "id": "q0StS0aSUsB8"
      },
      "execution_count": null,
      "outputs": []
    },
    {
      "cell_type": "code",
      "source": [
        "# Function to detect lanes using Hough Transform"
      ],
      "metadata": {
        "id": "_pjLgcHSUsDL"
      },
      "execution_count": 15,
      "outputs": []
    },
    {
      "cell_type": "code",
      "source": [
        "def detect_lanes(image):\n",
        "    # Define parameters for Hough transform\n",
        "    rho = 1  # Distance resolution of the accumulator in pixels\n",
        "    theta = np.pi / 180  # Angle resolution of the accumulator in radians\n",
        "    threshold = 15  # Accumulator threshold parameter, lines with less than this number of votes are disregarded\n",
        "    min_line_length = 40  # Minimum line length in pixels\n",
        "    max_line_gap = 20  # Maximum allowed gap between line segments to treat them as a single line\n",
        "     # Detect lines using Hough Transform\n",
        "    lines = cv2.HoughLinesP(image, rho, theta, threshold, np.array([]), minLineLength=min_line_length, maxLineGap=max_line_gap)\n",
        "\n",
        "    # Create an empty image to draw lines on\n",
        "    line_image = np.zeros_like(image_rgb)  # Creating an empty image with the same size as the input image\n",
        "\n",
        "    # Draw lines on the image\n",
        "    for line in lines:\n",
        "        for x1, y1, x2, y2 in line:\n",
        "            cv2.line(line_image, (x1, y1), (x2, y2), (255, 0, 0), 5)  # Drawing lines on the image\n",
        "\n",
        "    # Combine the line image with the original image\n",
        "    final_image = cv2.addWeighted(image_rgb, 0.8, line_image, 1, 0)  # Combining the two images\n",
        "\n",
        "    return final_image  # Returning the final image with detected lanes"
      ],
      "metadata": {
        "id": "FOVX_AKMUsHG"
      },
      "execution_count": 18,
      "outputs": []
    },
    {
      "cell_type": "code",
      "source": [],
      "metadata": {
        "id": "W3uMP4BLUsIN"
      },
      "execution_count": null,
      "outputs": []
    },
    {
      "cell_type": "code",
      "source": [],
      "metadata": {
        "id": "1nbZaCV9UVuH"
      },
      "execution_count": null,
      "outputs": []
    },
    {
      "cell_type": "markdown",
      "source": [
        "# Step 1: Setting Up the Environment"
      ],
      "metadata": {
        "id": "ciyLdraJn9XY"
      }
    },
    {
      "cell_type": "code",
      "source": [
        "# No code needed, assuming Python, NumPy, OpenCV, Matplotlib, and Jupyter Notebook are installed"
      ],
      "metadata": {
        "id": "rfWq5zpMn-yf"
      },
      "execution_count": 19,
      "outputs": []
    },
    {
      "cell_type": "code",
      "source": [],
      "metadata": {
        "id": "nnZk3u_5UVw9"
      },
      "execution_count": null,
      "outputs": []
    },
    {
      "cell_type": "markdown",
      "source": [
        "# Step 2: Downloading and Preparing the Dataset"
      ],
      "metadata": {
        "id": "ysZLackNoFVE"
      }
    },
    {
      "cell_type": "code",
      "source": [
        "# Since we're using a placeholder image, no code needed for downloading"
      ],
      "metadata": {
        "id": "cT6uW6IloGJ5"
      },
      "execution_count": 20,
      "outputs": []
    },
    {
      "cell_type": "code",
      "source": [],
      "metadata": {
        "id": "JFcX1nwIUVxx"
      },
      "execution_count": null,
      "outputs": []
    },
    {
      "cell_type": "markdown",
      "source": [
        "# Step 3: Exploratory Data Analysis (EDA)"
      ],
      "metadata": {
        "id": "VWBbugbLoM72"
      }
    },
    {
      "cell_type": "code",
      "source": [
        "# Fetching the image from the URL"
      ],
      "metadata": {
        "id": "lAMVCfb0oN6C"
      },
      "execution_count": 21,
      "outputs": []
    },
    {
      "cell_type": "code",
      "source": [
        "image_url = \"https://via.placeholder.com/500\""
      ],
      "metadata": {
        "id": "bXWAiTWNUV3A"
      },
      "execution_count": 22,
      "outputs": []
    },
    {
      "cell_type": "code",
      "source": [
        "with urllib.request.urlopen(image_url) as url_response:  # Opening URL to fetch image\n",
        "    image_content = url_response.read()  # Reading image content"
      ],
      "metadata": {
        "id": "aOIZjobsUV3u"
      },
      "execution_count": 23,
      "outputs": []
    },
    {
      "cell_type": "code",
      "source": [],
      "metadata": {
        "id": "BkkX2RSmUV65"
      },
      "execution_count": null,
      "outputs": []
    },
    {
      "cell_type": "code",
      "source": [
        "# Convert the image content to a numpy array"
      ],
      "metadata": {
        "id": "7JAMbM5LUV7q"
      },
      "execution_count": 24,
      "outputs": []
    },
    {
      "cell_type": "code",
      "source": [
        "nparr = np.frombuffer(image_content, np.uint8)  # Converting image content to NumPy array"
      ],
      "metadata": {
        "id": "ab17Z1zaoauF"
      },
      "execution_count": 25,
      "outputs": []
    },
    {
      "cell_type": "code",
      "source": [],
      "metadata": {
        "id": "aCZKCYLFoavE"
      },
      "execution_count": null,
      "outputs": []
    },
    {
      "cell_type": "code",
      "source": [
        "# Decode the numpy array to an image"
      ],
      "metadata": {
        "id": "E0xLdQipoazM"
      },
      "execution_count": 26,
      "outputs": []
    },
    {
      "cell_type": "code",
      "source": [
        "image = cv2.imdecode(nparr, cv2.IMREAD_COLOR)  # Decoding NumPy array to an image"
      ],
      "metadata": {
        "id": "LYDAJ9Floa0N"
      },
      "execution_count": 27,
      "outputs": []
    },
    {
      "cell_type": "code",
      "source": [],
      "metadata": {
        "id": "wOBJ_--Koa3z"
      },
      "execution_count": null,
      "outputs": []
    },
    {
      "cell_type": "code",
      "source": [
        "# Convert BGR image to RGB"
      ],
      "metadata": {
        "id": "htISPRIhoa41"
      },
      "execution_count": 28,
      "outputs": []
    },
    {
      "cell_type": "code",
      "source": [
        "image_rgb = cv2.cvtColor(image, cv2.COLOR_BGR2RGB)  # Converting image from BGR to RGB"
      ],
      "metadata": {
        "id": "biNJkXvLoa8I"
      },
      "execution_count": 29,
      "outputs": []
    },
    {
      "cell_type": "code",
      "source": [],
      "metadata": {
        "id": "EDd2ShgIoa9I"
      },
      "execution_count": null,
      "outputs": []
    },
    {
      "cell_type": "code",
      "source": [
        "# Display the sample image"
      ],
      "metadata": {
        "id": "3jLgSi5RobAK"
      },
      "execution_count": 30,
      "outputs": []
    },
    {
      "cell_type": "code",
      "source": [
        "plt.imshow(image_rgb)  # Displaying the sample image\n",
        "plt.title('Sample Image from TuSimple Dataset')  # Setting the title of the plot\n",
        "plt.show()  # Showing the plot"
      ],
      "metadata": {
        "colab": {
          "base_uri": "https://localhost:8080/",
          "height": 452
        },
        "id": "UOQmZccjobBM",
        "outputId": "2a0c37fb-29fd-4aec-a66d-f3f02187d57c"
      },
      "execution_count": 31,
      "outputs": [
        {
          "output_type": "display_data",
          "data": {
            "text/plain": [
              "<Figure size 640x480 with 1 Axes>"
            ],
            "image/png": "[encoded data removed]"
          },
          "metadata": {}
        }
      ]
    },
    {
      "cell_type": "code",
      "source": [],
      "metadata": {
        "id": "--CeLVYgowvZ"
      },
      "execution_count": null,
      "outputs": []
    },
    {
      "cell_type": "code",
      "source": [],
      "metadata": {
        "id": "6jKoNCxTowwh"
      },
      "execution_count": null,
      "outputs": []
    },
    {
      "cell_type": "markdown",
      "source": [
        "# Step 4: Preprocessing the Data"
      ],
      "metadata": {
        "id": "LNNWSReto0K9"
      }
    },
    {
      "cell_type": "code",
      "source": [
        "# Preprocess the image for lane detection"
      ],
      "metadata": {
        "id": "kb_J12LVo2Mv"
      },
      "execution_count": 32,
      "outputs": []
    },
    {
      "cell_type": "code",
      "source": [
        "edges = preprocess_image(image_rgb)  # Preprocessing the image for lane detection"
      ],
      "metadata": {
        "id": "Hl5PJuaJow-D"
      },
      "execution_count": 33,
      "outputs": []
    },
    {
      "cell_type": "code",
      "source": [],
      "metadata": {
        "id": "LvtZHEEYow_D"
      },
      "execution_count": null,
      "outputs": []
    },
    {
      "cell_type": "code",
      "source": [
        "# Display the edges detected"
      ],
      "metadata": {
        "id": "WZdGQO_uoxD8"
      },
      "execution_count": 34,
      "outputs": []
    },
    {
      "cell_type": "code",
      "source": [
        "plt.imshow(edges, cmap='gray')  # Displaying the edges detected\n",
        "plt.title('Edges Detected')  # Setting the title of the plot\n",
        "plt.show()  # Showing the plot"
      ],
      "metadata": {
        "colab": {
          "base_uri": "https://localhost:8080/",
          "height": 452
        },
        "id": "AObTfCo2oxE-",
        "outputId": "6f47cd97-e992-4abb-cd99-898ada3fa36b"
      },
      "execution_count": 35,
      "outputs": [
        {
          "output_type": "display_data",
          "data": {
            "text/plain": [
              "<Figure size 640x480 with 1 Axes>"
            ],
            "image/png": "[encoded data removed]"
          },
          "metadata": {}
        }
      ]
    },
    {
      "cell_type": "code",
      "source": [],
      "metadata": {
        "id": "mjGTXUcroxJr"
      },
      "execution_count": null,
      "outputs": []
    },
    {
      "cell_type": "code",
      "source": [],
      "metadata": {
        "id": "WCz9s6wvoxKw"
      },
      "execution_count": null,
      "outputs": []
    },
    {
      "cell_type": "markdown",
      "source": [
        "# Step 5: Applying Hough Transform for Lane Detection"
      ],
      "metadata": {
        "id": "cQW9216xpGCc"
      }
    },
    {
      "cell_type": "code",
      "source": [
        "# Detect lanes and display the result"
      ],
      "metadata": {
        "id": "sX2881sipHTy"
      },
      "execution_count": 36,
      "outputs": []
    },
    {
      "cell_type": "code",
      "source": [
        "final_image = detect_lanes(edges)  # Detecting lanes and displaying the result\n",
        "plt.imshow(final_image)  # Displaying the final image with detected lanes\n",
        "plt.title('Detected Lanes')  # Setting the title of the plot\n",
        "plt.show()  # Showing the plot"
      ],
      "metadata": {
        "colab": {
          "base_uri": "https://localhost:8080/",
          "height": 452
        },
        "id": "s86oZ6aPoba6",
        "outputId": "f35bf7e0-57be-4b5b-822a-027309092766"
      },
      "execution_count": 37,
      "outputs": [
        {
          "output_type": "display_data",
          "data": {
            "text/plain": [
              "<Figure size 640x480 with 1 Axes>"
            ],
            "image/png": "[encoded data removed]"
          },
          "metadata": {}
        }
      ]
    },
    {
      "cell_type": "code",
      "source": [],
      "metadata": {
        "id": "6OQrXV6pobb6"
      },
      "execution_count": null,
      "outputs": []
    },
    {
      "cell_type": "code",
      "source": [],
      "metadata": {
        "id": "iAHdU1-Dobfv"
      },
      "execution_count": null,
      "outputs": []
    },
    {
      "cell_type": "markdown",
      "source": [
        "# Step 6: Evaluation and Visualization"
      ],
      "metadata": {
        "id": "muZRnTLnpujI"
      }
    },
    {
      "cell_type": "code",
      "source": [
        "# Since this is a demonstration, we'll visually inspect the results, no additional code needed"
      ],
      "metadata": {
        "id": "f_vVeqXsobgy"
      },
      "execution_count": 38,
      "outputs": []
    },
    {
      "cell_type": "code",
      "source": [],
      "metadata": {
        "id": "SsAoC8t4obol"
      },
      "execution_count": null,
      "outputs": []
    }
  ]
}