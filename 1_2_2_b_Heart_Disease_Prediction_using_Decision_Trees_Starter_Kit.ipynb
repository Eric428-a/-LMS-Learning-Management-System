{
  "nbformat": 4,
  "nbformat_minor": 0,
  "metadata": {
    "colab": {
      "provenance": [],
      "authorship_tag": "ABX9TyOTn7pPqjUzvk3mLsWCg4Oi",
      "include_colab_link": true
    },
    "kernelspec": {
      "name": "python3",
      "display_name": "Python 3"
    },
    "language_info": {
      "name": "python"
    }
  },
  "cells": [
    {
      "cell_type": "markdown",
      "metadata": {
        "id": "view-in-github",
        "colab_type": "text"
      },
      "source": [
        "<a href=\"https://colab.research.google.com/github/Eric428-a/-LMS-Learning-Management-System/blob/master/1_2_2_b_Heart_Disease_Prediction_using_Decision_Trees_Starter_Kit.ipynb\" target=\"_parent\"><img src=\"https://colab.research.google.com/assets/colab-badge.svg\" alt=\"Open In Colab\"/></a>"
      ]
    },
    {
      "cell_type": "code",
      "source": [
        "# Import the neccessary working libraries"
      ],
      "metadata": {
        "id": "otgZsuMbhqVw"
      },
      "execution_count": 7,
      "outputs": []
    },
    {
      "cell_type": "code",
      "source": [
        "import pandas as pd  # Pandas is used for data manipulation and analysis"
      ],
      "metadata": {
        "id": "vI0uRI-ClAbg"
      },
      "execution_count": 8,
      "outputs": []
    },
    {
      "cell_type": "code",
      "source": [
        "import seaborn as sns  # Seaborn is a library for statistical data visualization"
      ],
      "metadata": {
        "id": "B212XeCalAcp"
      },
      "execution_count": 9,
      "outputs": []
    },
    {
      "cell_type": "code",
      "source": [
        "import matplotlib.pyplot as plt  # Matplotlib is a plotting library"
      ],
      "metadata": {
        "id": "LLdKMYRalAgA"
      },
      "execution_count": 10,
      "outputs": []
    },
    {
      "cell_type": "code",
      "source": [
        "import numpy as np  # NumPy is a library for numerical computations"
      ],
      "metadata": {
        "id": "xh8fWxxPlAhN"
      },
      "execution_count": 11,
      "outputs": []
    },
    {
      "cell_type": "code",
      "source": [
        "from sklearn.model_selection import train_test_split  # For splitting the dataset"
      ],
      "metadata": {
        "id": "0CkR792FlAlo"
      },
      "execution_count": 12,
      "outputs": []
    },
    {
      "cell_type": "code",
      "source": [
        "from sklearn.tree import DecisionTreeClassifier  # Decision Tree classifier"
      ],
      "metadata": {
        "id": "n__v3NOtlAm2"
      },
      "execution_count": 13,
      "outputs": []
    },
    {
      "cell_type": "code",
      "source": [
        "from sklearn.metrics import confusion_matrix, classification_report  # For model evaluation"
      ],
      "metadata": {
        "id": "z_MJvYHqlAqW"
      },
      "execution_count": 14,
      "outputs": []
    },
    {
      "cell_type": "code",
      "source": [
        "from scipy import stats  # For statistical functions"
      ],
      "metadata": {
        "id": "paL3yLirlAsV"
      },
      "execution_count": 15,
      "outputs": []
    },
    {
      "cell_type": "code",
      "source": [
        "import joblib  # For saving the model"
      ],
      "metadata": {
        "id": "AAy335JhlAu-"
      },
      "execution_count": 16,
      "outputs": []
    },
    {
      "cell_type": "code",
      "source": [],
      "metadata": {
        "id": "a174oAVQlAwO"
      },
      "execution_count": null,
      "outputs": []
    },
    {
      "cell_type": "code",
      "source": [],
      "metadata": {
        "id": "IwzwmGWhlA0k"
      },
      "execution_count": null,
      "outputs": []
    },
    {
      "cell_type": "markdown",
      "source": [
        "# Step 1: Data Collection"
      ],
      "metadata": {
        "id": "BX2nUIh4ll_p"
      }
    },
    {
      "cell_type": "code",
      "source": [
        "# URL for the dataset"
      ],
      "metadata": {
        "id": "6aEUEKIwk_eq"
      },
      "execution_count": 17,
      "outputs": []
    },
    {
      "cell_type": "code",
      "source": [
        "url = \"https://archive.ics.uci.edu/ml/machine-learning-databases/heart-disease/processed.cleveland.data\""
      ],
      "metadata": {
        "id": "-2re1B-ck_gW"
      },
      "execution_count": 18,
      "outputs": []
    },
    {
      "cell_type": "code",
      "source": [],
      "metadata": {
        "id": "80VGaGaVk_jk"
      },
      "execution_count": null,
      "outputs": []
    },
    {
      "cell_type": "code",
      "source": [
        "# Load the dataset from the provided URL"
      ],
      "metadata": {
        "id": "5iQkin0Nk_lI"
      },
      "execution_count": 19,
      "outputs": []
    },
    {
      "cell_type": "code",
      "source": [
        "data = pd.read_csv(url, header=None)"
      ],
      "metadata": {
        "id": "Khsnv1xUk_oQ"
      },
      "execution_count": 20,
      "outputs": []
    },
    {
      "cell_type": "code",
      "source": [],
      "metadata": {
        "id": "I98K5xijk_pw"
      },
      "execution_count": null,
      "outputs": []
    },
    {
      "cell_type": "code",
      "source": [],
      "metadata": {
        "id": "fz9mmxAnk_tS"
      },
      "execution_count": null,
      "outputs": []
    },
    {
      "cell_type": "markdown",
      "source": [
        "# Step 2: Exploratory Data Analysis (EDA)"
      ],
      "metadata": {
        "id": "_wu96uUXlyY2"
      }
    },
    {
      "cell_type": "code",
      "source": [
        "# Displaying the first few rows of the dataset"
      ],
      "metadata": {
        "id": "CmKR33GZkpJu"
      },
      "execution_count": 21,
      "outputs": []
    },
    {
      "cell_type": "code",
      "source": [
        "print(\"First few rows of the dataset:\")\n",
        "print(data.head())"
      ],
      "metadata": {
        "colab": {
          "base_uri": "https://localhost:8080/"
        },
        "id": "Odhc5puvkpKj",
        "outputId": "2ec83968-d862-4d09-a8db-556fe5dac8c1"
      },
      "execution_count": 22,
      "outputs": [
        {
          "output_type": "stream",
          "name": "stdout",
          "text": [
            "First few rows of the dataset:\n",
            "     0    1    2      3      4    5    6      7    8    9    10   11   12  13\n",
            "0  63.0  1.0  1.0  145.0  233.0  1.0  2.0  150.0  0.0  2.3  3.0  0.0  6.0   0\n",
            "1  67.0  1.0  4.0  160.0  286.0  0.0  2.0  108.0  1.0  1.5  2.0  3.0  3.0   2\n",
            "2  67.0  1.0  4.0  120.0  229.0  0.0  2.0  129.0  1.0  2.6  2.0  2.0  7.0   1\n",
            "3  37.0  1.0  3.0  130.0  250.0  0.0  0.0  187.0  0.0  3.5  3.0  0.0  3.0   0\n",
            "4  41.0  0.0  2.0  130.0  204.0  0.0  2.0  172.0  0.0  1.4  1.0  0.0  3.0   0\n"
          ]
        }
      ]
    },
    {
      "cell_type": "code",
      "source": [],
      "metadata": {
        "id": "yISfizcakpO9"
      },
      "execution_count": null,
      "outputs": []
    },
    {
      "cell_type": "code",
      "source": [],
      "metadata": {
        "id": "WAJ1Yv04kpPw"
      },
      "execution_count": null,
      "outputs": []
    },
    {
      "cell_type": "code",
      "source": [
        "# Displaying column names"
      ],
      "metadata": {
        "id": "RQ9HEWuykpTc"
      },
      "execution_count": 23,
      "outputs": []
    },
    {
      "cell_type": "code",
      "source": [
        "print(\"\\nColumn names:\")\n",
        "print(data.columns)"
      ],
      "metadata": {
        "colab": {
          "base_uri": "https://localhost:8080/"
        },
        "id": "bHpZ_BRukpUS",
        "outputId": "2651d2e7-869f-494d-9aae-d6ca89d707fd"
      },
      "execution_count": 24,
      "outputs": [
        {
          "output_type": "stream",
          "name": "stdout",
          "text": [
            "\n",
            "Column names:\n",
            "Index([0, 1, 2, 3, 4, 5, 6, 7, 8, 9, 10, 11, 12, 13], dtype='int64')\n"
          ]
        }
      ]
    },
    {
      "cell_type": "code",
      "source": [],
      "metadata": {
        "id": "_AUzQKPIkpX0"
      },
      "execution_count": null,
      "outputs": []
    },
    {
      "cell_type": "code",
      "source": [],
      "metadata": {
        "id": "22RSrg-akpY8"
      },
      "execution_count": null,
      "outputs": []
    },
    {
      "cell_type": "code",
      "source": [
        "# Displaying data types of each column"
      ],
      "metadata": {
        "id": "Q-8RUaH_kpcA"
      },
      "execution_count": 25,
      "outputs": []
    },
    {
      "cell_type": "code",
      "source": [
        "print(\"\\nData types:\")\n",
        "print(data.dtypes)"
      ],
      "metadata": {
        "colab": {
          "base_uri": "https://localhost:8080/"
        },
        "id": "6dQs03oXkpc8",
        "outputId": "1ba71337-c750-438f-bea0-8719d4a57702"
      },
      "execution_count": 26,
      "outputs": [
        {
          "output_type": "stream",
          "name": "stdout",
          "text": [
            "\n",
            "Data types:\n",
            "0     float64\n",
            "1     float64\n",
            "2     float64\n",
            "3     float64\n",
            "4     float64\n",
            "5     float64\n",
            "6     float64\n",
            "7     float64\n",
            "8     float64\n",
            "9     float64\n",
            "10    float64\n",
            "11     object\n",
            "12     object\n",
            "13      int64\n",
            "dtype: object\n"
          ]
        }
      ]
    },
    {
      "cell_type": "code",
      "source": [],
      "metadata": {
        "id": "biov-_nTkpgA"
      },
      "execution_count": null,
      "outputs": []
    },
    {
      "cell_type": "code",
      "source": [],
      "metadata": {
        "id": "XhVS5oHZkpg8"
      },
      "execution_count": null,
      "outputs": []
    },
    {
      "cell_type": "code",
      "source": [
        "# Displaying number of rows and columns in the dataset"
      ],
      "metadata": {
        "id": "9N-jwUZrkpkX"
      },
      "execution_count": 27,
      "outputs": []
    },
    {
      "cell_type": "code",
      "source": [
        "print(\"\\nNumber of rows:\", data.shape[0])\n",
        "print(\"Number of columns:\", data.shape[1])"
      ],
      "metadata": {
        "colab": {
          "base_uri": "https://localhost:8080/"
        },
        "id": "KfRLSQXakplU",
        "outputId": "da9c1f1c-5867-4159-a0c8-1b80afec8b81"
      },
      "execution_count": 28,
      "outputs": [
        {
          "output_type": "stream",
          "name": "stdout",
          "text": [
            "\n",
            "Number of rows: 303\n",
            "Number of columns: 14\n"
          ]
        }
      ]
    },
    {
      "cell_type": "code",
      "source": [],
      "metadata": {
        "id": "TKoSFwktkpol"
      },
      "execution_count": null,
      "outputs": []
    },
    {
      "cell_type": "code",
      "source": [
        "# Checking for missing values"
      ],
      "metadata": {
        "id": "pv_zXRZfkppf"
      },
      "execution_count": 29,
      "outputs": []
    },
    {
      "cell_type": "code",
      "source": [
        "print(\"\\nMissing values:\")\n",
        "print(data.isnull().sum())"
      ],
      "metadata": {
        "colab": {
          "base_uri": "https://localhost:8080/"
        },
        "id": "u4Sw7A-2kpsM",
        "outputId": "eaf7d9f7-1712-4afa-91c4-5747ead1d723"
      },
      "execution_count": 30,
      "outputs": [
        {
          "output_type": "stream",
          "name": "stdout",
          "text": [
            "\n",
            "Missing values:\n",
            "0     0\n",
            "1     0\n",
            "2     0\n",
            "3     0\n",
            "4     0\n",
            "5     0\n",
            "6     0\n",
            "7     0\n",
            "8     0\n",
            "9     0\n",
            "10    0\n",
            "11    0\n",
            "12    0\n",
            "13    0\n",
            "dtype: int64\n"
          ]
        }
      ]
    },
    {
      "cell_type": "code",
      "source": [],
      "metadata": {
        "id": "WLD-yN66kptJ"
      },
      "execution_count": null,
      "outputs": []
    },
    {
      "cell_type": "code",
      "source": [],
      "metadata": {
        "id": "M_h1k6-EkpwU"
      },
      "execution_count": null,
      "outputs": []
    },
    {
      "cell_type": "code",
      "source": [
        "# Providing a statistical summary of the dataset"
      ],
      "metadata": {
        "id": "9p9gFyV1kpxV"
      },
      "execution_count": 31,
      "outputs": []
    },
    {
      "cell_type": "code",
      "source": [
        "print(\"\\nStatistical summary:\")\n",
        "print(data.describe())\n",
        "print(\"\\nData Collection: Completed\")  # Description of what happened in this block"
      ],
      "metadata": {
        "colab": {
          "base_uri": "https://localhost:8080/"
        },
        "id": "FhNILLR1kp0X",
        "outputId": "02247c18-9885-46d8-903e-01ed5e6f8e49"
      },
      "execution_count": 32,
      "outputs": [
        {
          "output_type": "stream",
          "name": "stdout",
          "text": [
            "\n",
            "Statistical summary:\n",
            "               0           1           2           3           4           5   \\\n",
            "count  303.000000  303.000000  303.000000  303.000000  303.000000  303.000000   \n",
            "mean    54.438944    0.679868    3.158416  131.689769  246.693069    0.148515   \n",
            "std      9.038662    0.467299    0.960126   17.599748   51.776918    0.356198   \n",
            "min     29.000000    0.000000    1.000000   94.000000  126.000000    0.000000   \n",
            "25%     48.000000    0.000000    3.000000  120.000000  211.000000    0.000000   \n",
            "50%     56.000000    1.000000    3.000000  130.000000  241.000000    0.000000   \n",
            "75%     61.000000    1.000000    4.000000  140.000000  275.000000    0.000000   \n",
            "max     77.000000    1.000000    4.000000  200.000000  564.000000    1.000000   \n",
            "\n",
            "               6           7           8           9           10          13  \n",
            "count  303.000000  303.000000  303.000000  303.000000  303.000000  303.000000  \n",
            "mean     0.990099  149.607261    0.326733    1.039604    1.600660    0.937294  \n",
            "std      0.994971   22.875003    0.469794    1.161075    0.616226    1.228536  \n",
            "min      0.000000   71.000000    0.000000    0.000000    1.000000    0.000000  \n",
            "25%      0.000000  133.500000    0.000000    0.000000    1.000000    0.000000  \n",
            "50%      1.000000  153.000000    0.000000    0.800000    2.000000    0.000000  \n",
            "75%      2.000000  166.000000    1.000000    1.600000    2.000000    2.000000  \n",
            "max      2.000000  202.000000    1.000000    6.200000    3.000000    4.000000  \n",
            "\n",
            "Data Collection: Completed\n"
          ]
        }
      ]
    },
    {
      "cell_type": "code",
      "source": [],
      "metadata": {
        "id": "-JkyS4Qnkp1l"
      },
      "execution_count": null,
      "outputs": []
    },
    {
      "cell_type": "code",
      "source": [],
      "metadata": {
        "id": "HZaSj8sUkp5x"
      },
      "execution_count": null,
      "outputs": []
    },
    {
      "cell_type": "markdown",
      "source": [
        "\n",
        "# Step 3: Data Preprocessing"
      ],
      "metadata": {
        "id": "_PWURwtVmUEu"
      }
    },
    {
      "cell_type": "code",
      "source": [
        "# Replace '?' with NaN"
      ],
      "metadata": {
        "id": "fKp05pjukqhz"
      },
      "execution_count": 33,
      "outputs": []
    },
    {
      "cell_type": "code",
      "source": [
        "data.replace('?', np.nan, inplace=True)"
      ],
      "metadata": {
        "id": "qPw92urvkqi0"
      },
      "execution_count": 34,
      "outputs": []
    },
    {
      "cell_type": "code",
      "source": [],
      "metadata": {
        "id": "4KfbVPpVkqmS"
      },
      "execution_count": null,
      "outputs": []
    },
    {
      "cell_type": "code",
      "source": [
        "# Convert columns to numeric"
      ],
      "metadata": {
        "id": "zV978LG5kqnT"
      },
      "execution_count": 35,
      "outputs": []
    },
    {
      "cell_type": "code",
      "source": [
        "data = data.apply(pd.to_numeric)"
      ],
      "metadata": {
        "id": "ib7n9Zw2kqqV"
      },
      "execution_count": 36,
      "outputs": []
    },
    {
      "cell_type": "code",
      "source": [],
      "metadata": {
        "id": "jdYEuMjFkqrZ"
      },
      "execution_count": null,
      "outputs": []
    },
    {
      "cell_type": "code",
      "source": [
        "# Handling missing values by replacing them with the mean"
      ],
      "metadata": {
        "id": "g2dPKc0IkquZ"
      },
      "execution_count": 37,
      "outputs": []
    },
    {
      "cell_type": "code",
      "source": [
        "data.fillna(data.mean(), inplace=True)"
      ],
      "metadata": {
        "id": "1iY59hvgkqvZ"
      },
      "execution_count": 38,
      "outputs": []
    },
    {
      "cell_type": "code",
      "source": [],
      "metadata": {
        "id": "hnA8KtvNkqyu"
      },
      "execution_count": null,
      "outputs": []
    },
    {
      "cell_type": "code",
      "source": [
        "# Data Visualization"
      ],
      "metadata": {
        "id": "gn6qUEYlkq0E"
      },
      "execution_count": 39,
      "outputs": []
    },
    {
      "cell_type": "code",
      "source": [
        "# Correlation heatmap to visualize relationships between features"
      ],
      "metadata": {
        "id": "J5485ir_kq2m"
      },
      "execution_count": 40,
      "outputs": []
    },
    {
      "cell_type": "code",
      "source": [
        "plt.figure(figsize=(10, 8))\n",
        "sns.heatmap(data.corr(), annot=True, fmt=\".2f\")\n",
        "plt.title(\"Correlation Heatmap\")\n",
        "plt.show()\n",
        "print(\"Visualizing correlation between features using a heatmap.\")"
      ],
      "metadata": {
        "colab": {
          "base_uri": "https://localhost:8080/",
          "height": 716
        },
        "id": "pcl-wAfakq4M",
        "outputId": "52b8c903-c7cc-4ec6-89be-988f037f5615"
      },
      "execution_count": 41,
      "outputs": [
        {
          "output_type": "display_data",
          "data": {
            "text/plain": [
              "<Figure size 1000x800 with 2 Axes>"
            ],
            "image/png": "[encoded data removed]"
          },
          "metadata": {}
        },
        {
          "output_type": "stream",
          "name": "stdout",
          "text": [
            "Visualizing correlation between features using a heatmap.\n"
          ]
        }
      ]
    },
    {
      "cell_type": "code",
      "source": [],
      "metadata": {
        "id": "t98RDeVlkq6s"
      },
      "execution_count": null,
      "outputs": []
    },
    {
      "cell_type": "code",
      "source": [],
      "metadata": {
        "id": "wDHSKNdJkq7s"
      },
      "execution_count": null,
      "outputs": []
    },
    {
      "cell_type": "code",
      "source": [
        "# Box plots for each feature to visualize distribution and identify outliers"
      ],
      "metadata": {
        "id": "8dB7mxm1kq-q"
      },
      "execution_count": 42,
      "outputs": []
    },
    {
      "cell_type": "code",
      "source": [
        "data.plot(kind='box', subplots=True, layout=(5, 3), figsize=(12, 10))\n",
        "plt.title(\"Box Plots for Features\")\n",
        "plt.show()\n",
        "print(\"Visualizing distribution and outliers for each feature using box plots.\")"
      ],
      "metadata": {
        "colab": {
          "base_uri": "https://localhost:8080/",
          "height": 810
        },
        "id": "iFY1zJPKkq_t",
        "outputId": "e7f4cbac-c352-4e31-f1c0-f6922d513f07"
      },
      "execution_count": 43,
      "outputs": [
        {
          "output_type": "display_data",
          "data": {
            "text/plain": [
              "<Figure size 1200x1000 with 15 Axes>"
            ],
            "image/png": "[encoded data removed]"
          },
          "metadata": {}
        },
        {
          "output_type": "stream",
          "name": "stdout",
          "text": [
            "Visualizing distribution and outliers for each feature using box plots.\n"
          ]
        }
      ]
    },
    {
      "cell_type": "code",
      "source": [],
      "metadata": {
        "id": "PTqYLd3CkrCx"
      },
      "execution_count": null,
      "outputs": []
    },
    {
      "cell_type": "code",
      "source": [],
      "metadata": {
        "id": "KmpLOTtekrDx"
      },
      "execution_count": null,
      "outputs": []
    },
    {
      "cell_type": "markdown",
      "source": [
        "# Step 4: Model Training"
      ],
      "metadata": {
        "id": "p_3xvwKinC4p"
      }
    },
    {
      "cell_type": "code",
      "source": [
        "# Split the dataset into features and target variable"
      ],
      "metadata": {
        "id": "YQ4d-z3akrGm"
      },
      "execution_count": 44,
      "outputs": []
    },
    {
      "cell_type": "code",
      "source": [
        "X = data.drop(data.columns[-1], axis=1)  # Features"
      ],
      "metadata": {
        "id": "lZKzm9L7krHm"
      },
      "execution_count": 45,
      "outputs": []
    },
    {
      "cell_type": "code",
      "source": [
        "y = data[data.columns[-1]]  # Target variable"
      ],
      "metadata": {
        "id": "uw3VkwSQhqZv"
      },
      "execution_count": 46,
      "outputs": []
    },
    {
      "cell_type": "code",
      "source": [],
      "metadata": {
        "id": "HFi11IqOhqam"
      },
      "execution_count": null,
      "outputs": []
    },
    {
      "cell_type": "code",
      "source": [
        "# Split the dataset into training and test sets"
      ],
      "metadata": {
        "id": "vrsfL6CDhqdN"
      },
      "execution_count": 47,
      "outputs": []
    },
    {
      "cell_type": "code",
      "source": [
        "X_train, X_test, y_train, y_test = train_test_split(X, y, test_size=0.2, random_state=42)"
      ],
      "metadata": {
        "id": "RprNa6dEhqeF"
      },
      "execution_count": 48,
      "outputs": []
    },
    {
      "cell_type": "code",
      "source": [],
      "metadata": {
        "id": "9q9d43NOnSMI"
      },
      "execution_count": null,
      "outputs": []
    },
    {
      "cell_type": "code",
      "source": [
        "# Initialize the Decision Tree model"
      ],
      "metadata": {
        "id": "wNJISg2jnSPF"
      },
      "execution_count": 49,
      "outputs": []
    },
    {
      "cell_type": "code",
      "source": [
        "dtree = DecisionTreeClassifier(random_state=42)"
      ],
      "metadata": {
        "id": "L0YDKU0ZnSQS"
      },
      "execution_count": 50,
      "outputs": []
    },
    {
      "cell_type": "code",
      "source": [],
      "metadata": {
        "id": "SWpOOM80nSTp"
      },
      "execution_count": null,
      "outputs": []
    },
    {
      "cell_type": "code",
      "source": [
        "# Fit the model"
      ],
      "metadata": {
        "id": "KbEhPhX9nSVY"
      },
      "execution_count": 51,
      "outputs": []
    },
    {
      "cell_type": "code",
      "source": [
        "dtree.fit(X_train, y_train)\n",
        "print(\"Training the Decision Tree classifier model.\")"
      ],
      "metadata": {
        "colab": {
          "base_uri": "https://localhost:8080/"
        },
        "id": "5L91-pzrnSXo",
        "outputId": "addd8d9c-e89c-46c8-c772-ae1ae836b7f5"
      },
      "execution_count": 52,
      "outputs": [
        {
          "output_type": "stream",
          "name": "stdout",
          "text": [
            "Training the Decision Tree classifier model.\n"
          ]
        }
      ]
    },
    {
      "cell_type": "code",
      "source": [],
      "metadata": {
        "id": "dGW9Z6WBnSY8"
      },
      "execution_count": null,
      "outputs": []
    },
    {
      "cell_type": "code",
      "source": [],
      "metadata": {
        "id": "8piFj99rnSbt"
      },
      "execution_count": null,
      "outputs": []
    },
    {
      "cell_type": "markdown",
      "source": [
        "# Step 5: Model Evaluation"
      ],
      "metadata": {
        "id": "Z4_rEVTunk2j"
      }
    },
    {
      "cell_type": "code",
      "source": [
        "# Predict on the test set"
      ],
      "metadata": {
        "id": "lzk0PJrjnSc8"
      },
      "execution_count": 53,
      "outputs": []
    },
    {
      "cell_type": "code",
      "source": [
        "y_pred = dtree.predict(X_test)"
      ],
      "metadata": {
        "id": "8EEdVje_nSf7"
      },
      "execution_count": 54,
      "outputs": []
    },
    {
      "cell_type": "code",
      "source": [],
      "metadata": {
        "id": "zf0CkGaanShM"
      },
      "execution_count": null,
      "outputs": []
    },
    {
      "cell_type": "code",
      "source": [
        "# Confusion matrix to evaluate model performance"
      ],
      "metadata": {
        "id": "Q0mOIxWsnSkM"
      },
      "execution_count": 55,
      "outputs": []
    },
    {
      "cell_type": "code",
      "source": [
        "print(\"\\nConfusion Matrix:\")\n",
        "print(confusion_matrix(y_test, y_pred))"
      ],
      "metadata": {
        "colab": {
          "base_uri": "https://localhost:8080/"
        },
        "id": "F3VeDXOpnSlj",
        "outputId": "92838721-5c30-4eff-8afe-7b974d528d21"
      },
      "execution_count": 56,
      "outputs": [
        {
          "output_type": "stream",
          "name": "stdout",
          "text": [
            "\n",
            "Confusion Matrix:\n",
            "[[23  1  4  1  0]\n",
            " [ 4  3  4  1  0]\n",
            " [ 1  1  4  2  1]\n",
            " [ 1  4  1  0  1]\n",
            " [ 1  1  0  2  0]]\n"
          ]
        }
      ]
    },
    {
      "cell_type": "code",
      "source": [],
      "metadata": {
        "id": "acMjr9hjnSoJ"
      },
      "execution_count": null,
      "outputs": []
    },
    {
      "cell_type": "code",
      "source": [],
      "metadata": {
        "id": "P_s0QcG1nSqh"
      },
      "execution_count": null,
      "outputs": []
    },
    {
      "cell_type": "code",
      "source": [
        "# Classification report for detailed performance metrics"
      ],
      "metadata": {
        "id": "ifVRBySWnStD"
      },
      "execution_count": 57,
      "outputs": []
    },
    {
      "cell_type": "code",
      "source": [
        "print(\"\\nClassification Report:\")\n",
        "print(classification_report(y_test, y_pred))"
      ],
      "metadata": {
        "colab": {
          "base_uri": "https://localhost:8080/"
        },
        "id": "J-qtVqohnSuU",
        "outputId": "d12f7a9b-47a3-40ac-91d2-8d50e4be4afa"
      },
      "execution_count": 58,
      "outputs": [
        {
          "output_type": "stream",
          "name": "stdout",
          "text": [
            "\n",
            "Classification Report:\n",
            "              precision    recall  f1-score   support\n",
            "\n",
            "           0       0.77      0.79      0.78        29\n",
            "           1       0.30      0.25      0.27        12\n",
            "           2       0.31      0.44      0.36         9\n",
            "           3       0.00      0.00      0.00         7\n",
            "           4       0.00      0.00      0.00         4\n",
            "\n",
            "    accuracy                           0.49        61\n",
            "   macro avg       0.27      0.30      0.28        61\n",
            "weighted avg       0.47      0.49      0.48        61\n",
            "\n"
          ]
        }
      ]
    },
    {
      "cell_type": "code",
      "source": [],
      "metadata": {
        "id": "AFKiY5tLnSxY"
      },
      "execution_count": null,
      "outputs": []
    },
    {
      "cell_type": "code",
      "source": [],
      "metadata": {
        "id": "mLfeiKpfnSyt"
      },
      "execution_count": null,
      "outputs": []
    },
    {
      "cell_type": "markdown",
      "source": [
        "# Step 6: Conclusion"
      ],
      "metadata": {
        "id": "BGvDxbCfn2Gx"
      }
    },
    {
      "cell_type": "code",
      "source": [
        "print(\"\\nConclusion:\")\n",
        "print(\"In conclusion, we have successfully walked through the steps of a machine learning project for heart disease prediction using Decision Trees.\")\n",
        "print(\"The exploratory data analysis provided insights into the dataset, the Decision Tree model was trained, and its performance was evaluated.\")\n",
        "print(\"Remember to always save your model for future use.\")"
      ],
      "metadata": {
        "colab": {
          "base_uri": "https://localhost:8080/"
        },
        "id": "LqW1K5-enS1k",
        "outputId": "c467ac21-4fd1-404a-fd91-8bb7f5dff82f"
      },
      "execution_count": 59,
      "outputs": [
        {
          "output_type": "stream",
          "name": "stdout",
          "text": [
            "\n",
            "Conclusion:\n",
            "In conclusion, we have successfully walked through the steps of a machine learning project for heart disease prediction using Decision Trees.\n",
            "The exploratory data analysis provided insights into the dataset, the Decision Tree model was trained, and its performance was evaluated.\n",
            "Remember to always save your model for future use.\n"
          ]
        }
      ]
    },
    {
      "cell_type": "code",
      "source": [],
      "metadata": {
        "id": "1KYdacoxnS28"
      },
      "execution_count": null,
      "outputs": []
    },
    {
      "cell_type": "code",
      "source": [],
      "metadata": {
        "id": "jIS5shYfnS58"
      },
      "execution_count": null,
      "outputs": []
    },
    {
      "cell_type": "markdown",
      "source": [
        "# Step 7: Saving the model"
      ],
      "metadata": {
        "id": "2J6jd4sEn_Eq"
      }
    },
    {
      "cell_type": "code",
      "source": [
        "joblib.dump(dtree, 'heart_disease_decision_tree_model.pkl')\n",
        "print(\"The trained model has been saved as 'heart_disease_decision_tree_model.pkl'.\")"
      ],
      "metadata": {
        "colab": {
          "base_uri": "https://localhost:8080/"
        },
        "id": "hNERl7U6nS7i",
        "outputId": "da9c192d-7da7-4df8-9c17-2f5b2a8d16f7"
      },
      "execution_count": 61,
      "outputs": [
        {
          "output_type": "stream",
          "name": "stdout",
          "text": [
            "The trained model has been saved as 'heart_disease_decision_tree_model.pkl'.\n"
          ]
        }
      ]
    },
    {
      "cell_type": "code",
      "source": [],
      "metadata": {
        "id": "2S9-8ajlnS94"
      },
      "execution_count": null,
      "outputs": []
    },
    {
      "cell_type": "code",
      "source": [
        "# Citations"
      ],
      "metadata": {
        "id": "2XfDqeUPnS_P"
      },
      "execution_count": 62,
      "outputs": []
    },
    {
      "cell_type": "code",
      "source": [
        "print(\"\\nCitations:\")\n",
        "print(\"[1] https://archive.ics.uci.edu/ml/datasets/heartdisease\")\n",
        "print(\"[2] https://www.semanticscholar.org/paper/95d8ec70f8aa3452d095fe89c7b5a072731b472c\")"
      ],
      "metadata": {
        "colab": {
          "base_uri": "https://localhost:8080/"
        },
        "id": "JtLU7RE_nTBu",
        "outputId": "ec382601-e4f5-4c61-e5a6-afd9693f29d1"
      },
      "execution_count": 63,
      "outputs": [
        {
          "output_type": "stream",
          "name": "stdout",
          "text": [
            "\n",
            "Citations:\n",
            "[1] https://archive.ics.uci.edu/ml/datasets/heartdisease\n",
            "[2] https://www.semanticscholar.org/paper/95d8ec70f8aa3452d095fe89c7b5a072731b472c\n"
          ]
        }
      ]
    },
    {
      "cell_type": "code",
      "source": [],
      "metadata": {
        "id": "rrBYlKmknTDG"
      },
      "execution_count": null,
      "outputs": []
    }
  ]
}