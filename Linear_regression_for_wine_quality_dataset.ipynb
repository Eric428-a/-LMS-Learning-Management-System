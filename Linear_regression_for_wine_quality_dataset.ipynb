{
  "nbformat": 4,
  "nbformat_minor": 0,
  "metadata": {
    "colab": {
      "provenance": [],
      "authorship_tag": "ABX9TyPDMAXVd1a+Y+LYKmxnv1tH",
      "include_colab_link": true
    },
    "kernelspec": {
      "name": "python3",
      "display_name": "Python 3"
    },
    "language_info": {
      "name": "python"
    }
  },
  "cells": [
    {
      "cell_type": "markdown",
      "metadata": {
        "id": "view-in-github",
        "colab_type": "text"
      },
      "source": [
        "<a href=\"https://colab.research.google.com/github/Eric428-a/-LMS-Learning-Management-System/blob/master/Linear_regression_for_wine_quality_dataset.ipynb\" target=\"_parent\"><img src=\"https://colab.research.google.com/assets/colab-badge.svg\" alt=\"Open In Colab\"/></a>"
      ]
    },
    {
      "cell_type": "markdown",
      "source": [
        "# **POSSIBLE TASKS FROM THE DATASET **"
      ],
      "metadata": {
        "id": "X5WQg6uJclC0"
      }
    },
    {
      "cell_type": "markdown",
      "source": [
        "# *LINEAR REGRESSION *"
      ],
      "metadata": {
        "id": "qRZfD6LDcbEi"
      }
    },
    {
      "cell_type": "code",
      "execution_count": null,
      "metadata": {
        "id": "k2G-Xgb1GDVZ"
      },
      "outputs": [],
      "source": [
        "# Importing necessary libraries for data analysis and visualization"
      ]
    },
    {
      "cell_type": "code",
      "source": [
        "import pandas as pd  # Pandas is a powerful library for data manipulation and analysis."
      ],
      "metadata": {
        "id": "AJLywlsQGLpB"
      },
      "execution_count": null,
      "outputs": []
    },
    {
      "cell_type": "code",
      "source": [
        "import numpy as np   # NumPy is used for numerical computations and handling arrays and matrices efficiently."
      ],
      "metadata": {
        "id": "2pnlhYF9GLrp"
      },
      "execution_count": null,
      "outputs": []
    },
    {
      "cell_type": "code",
      "source": [
        "import matplotlib.pyplot as plt  # Matplotlib is a comprehensive library for creating various types of visualizations."
      ],
      "metadata": {
        "id": "ycZOhUXdGLuj"
      },
      "execution_count": null,
      "outputs": []
    },
    {
      "cell_type": "code",
      "source": [
        "import seaborn as sns  # Seaborn is built on top of Matplotlib and provides a higher-level interface for statistical data visualization."
      ],
      "metadata": {
        "id": "d7EHkb1tGLxH"
      },
      "execution_count": null,
      "outputs": []
    },
    {
      "cell_type": "code",
      "source": [
        "from sklearn.model_selection import train_test_split  # train_test_split is a function from scikit-learn that splits data into training and testing sets."
      ],
      "metadata": {
        "id": "YlCekkOMGL1R"
      },
      "execution_count": null,
      "outputs": []
    },
    {
      "cell_type": "code",
      "source": [
        "from sklearn.linear_model import LinearRegression  # LinearRegression is a class from scikit-learn used for fitting linear regression models."
      ],
      "metadata": {
        "id": "hL-eGpLiGL32"
      },
      "execution_count": null,
      "outputs": []
    },
    {
      "cell_type": "code",
      "source": [
        "from sklearn.metrics import mean_squared_error, r2_score  # These functions from scikit-learn are used to evaluate model performance."
      ],
      "metadata": {
        "id": "qp7JdzUzGL7K"
      },
      "execution_count": null,
      "outputs": []
    },
    {
      "cell_type": "code",
      "source": [],
      "metadata": {
        "id": "7mCcveVbGytC"
      },
      "execution_count": null,
      "outputs": []
    },
    {
      "cell_type": "code",
      "source": [
        "# Load the dataset from a CSV file"
      ],
      "metadata": {
        "id": "zzLSOXRuGy4_"
      },
      "execution_count": null,
      "outputs": []
    },
    {
      "cell_type": "code",
      "source": [
        "df = pd.read_csv(\"/content/winequality-white.csv\")  # The pd.read_csv() function reads the CSV file and creates a DataFrame (df) containing the data."
      ],
      "metadata": {
        "id": "5GSUGWTYGy72"
      },
      "execution_count": null,
      "outputs": []
    },
    {
      "cell_type": "code",
      "source": [],
      "metadata": {
        "id": "cRkUrUkTGzD-"
      },
      "execution_count": null,
      "outputs": []
    },
    {
      "cell_type": "code",
      "source": [
        "# Check for missing values in the dataset and handle them if found"
      ],
      "metadata": {
        "id": "wGtmesH6GzHM"
      },
      "execution_count": null,
      "outputs": []
    },
    {
      "cell_type": "code",
      "source": [
        "missing_values = df.isnull().sum()  # The isnull() method detects missing values in the DataFrame, and sum() calculates the total number of missing values for each column.\n",
        "if missing_values.any():  # Check if any missing values are found in the dataset.\n",
        "    print(\"Handling missing values...\")  # If missing values are found, a message is printed indicating that they are being handled.\n",
        "    df.fillna(df.mean(), inplace=True)  # The fillna() method fills missing values with the mean of each column. inplace=True modifies the DataFrame in place.\n",
        "    print(\"Missing values have been filled with the mean.\")  # A message is printed to confirm that missing values have been filled."
      ],
      "metadata": {
        "id": "HVpwOyZqGzKw"
      },
      "execution_count": null,
      "outputs": []
    },
    {
      "cell_type": "code",
      "source": [],
      "metadata": {
        "id": "4_kyC5gbGzN9"
      },
      "execution_count": null,
      "outputs": []
    },
    {
      "cell_type": "code",
      "source": [],
      "metadata": {
        "id": "5wRMUrpRII3z"
      },
      "execution_count": null,
      "outputs": []
    },
    {
      "cell_type": "code",
      "source": [
        "# Split the dataset into features (X) and target variable (y)"
      ],
      "metadata": {
        "id": "nUIpZgwGGzRE"
      },
      "execution_count": null,
      "outputs": []
    },
    {
      "cell_type": "code",
      "source": [
        "X = df.drop(columns=['quality'])  # Features (X) are obtained by dropping the 'quality' column from the DataFrame."
      ],
      "metadata": {
        "id": "K5IUPRq2GzT9"
      },
      "execution_count": null,
      "outputs": []
    },
    {
      "cell_type": "code",
      "source": [
        "y = df['quality']  # The target variable (y) is assigned the 'quality' column of the DataFrame."
      ],
      "metadata": {
        "id": "KlbdpqRxHMz8"
      },
      "execution_count": null,
      "outputs": []
    },
    {
      "cell_type": "code",
      "source": [],
      "metadata": {
        "id": "5caHy8VNHM2y"
      },
      "execution_count": null,
      "outputs": []
    },
    {
      "cell_type": "code",
      "source": [
        "# Split the data into training and testing sets\n",
        "X_train, X_test, y_train, y_test = train_test_split(X, y, test_size=0.2, random_state=42)  # The data is split into training and testing sets using a 80-20 split."
      ],
      "metadata": {
        "id": "L7_6qeWfHM5w"
      },
      "execution_count": null,
      "outputs": []
    },
    {
      "cell_type": "code",
      "source": [],
      "metadata": {
        "id": "fnPMKfLfHM8a"
      },
      "execution_count": null,
      "outputs": []
    },
    {
      "cell_type": "code",
      "source": [
        "# Train a linear regression model"
      ],
      "metadata": {
        "id": "JLygu_ZSHM-3"
      },
      "execution_count": null,
      "outputs": []
    },
    {
      "cell_type": "code",
      "source": [
        "model = LinearRegression()  # Create an instance of the LinearRegression model."
      ],
      "metadata": {
        "id": "KonQI1LCHNCC"
      },
      "execution_count": null,
      "outputs": []
    },
    {
      "cell_type": "code",
      "source": [
        "model.fit(X_train, y_train)  # Fit the model to the training data."
      ],
      "metadata": {
        "colab": {
          "base_uri": "https://localhost:8080/",
          "height": 75
        },
        "id": "FlSaaNWzHNFr",
        "outputId": "f4f2e00a-92da-4caa-a6e8-3d4bf3cfce84"
      },
      "execution_count": null,
      "outputs": [
        {
          "output_type": "execute_result",
          "data": {
            "text/plain": [
              "LinearRegression()"
            ],
            "text/html": [
              "<style>#sk-container-id-3 {color: black;background-color: white;}#sk-container-id-3 pre{padding: 0;}#sk-container-id-3 div.sk-toggleable {background-color: white;}#sk-container-id-3 label.sk-toggleable__label {cursor: pointer;display: block;width: 100%;margin-bottom: 0;padding: 0.3em;box-sizing: border-box;text-align: center;}#sk-container-id-3 label.sk-toggleable__label-arrow:before {content: \"▸\";float: left;margin-right: 0.25em;color: #696969;}#sk-container-id-3 label.sk-toggleable__label-arrow:hover:before {color: black;}#sk-container-id-3 div.sk-estimator:hover label.sk-toggleable__label-arrow:before {color: black;}#sk-container-id-3 div.sk-toggleable__content {max-height: 0;max-width: 0;overflow: hidden;text-align: left;background-color: #f0f8ff;}#sk-container-id-3 div.sk-toggleable__content pre {margin: 0.2em;color: black;border-radius: 0.25em;background-color: #f0f8ff;}#sk-container-id-3 input.sk-toggleable__control:checked~div.sk-toggleable__content {max-height: 200px;max-width: 100%;overflow: auto;}#sk-container-id-3 input.sk-toggleable__control:checked~label.sk-toggleable__label-arrow:before {content: \"▾\";}#sk-container-id-3 div.sk-estimator input.sk-toggleable__control:checked~label.sk-toggleable__label {background-color: #d4ebff;}#sk-container-id-3 div.sk-label input.sk-toggleable__control:checked~label.sk-toggleable__label {background-color: #d4ebff;}#sk-container-id-3 input.sk-hidden--visually {border: 0;clip: rect(1px 1px 1px 1px);clip: rect(1px, 1px, 1px, 1px);height: 1px;margin: -1px;overflow: hidden;padding: 0;position: absolute;width: 1px;}#sk-container-id-3 div.sk-estimator {font-family: monospace;background-color: #f0f8ff;border: 1px dotted black;border-radius: 0.25em;box-sizing: border-box;margin-bottom: 0.5em;}#sk-container-id-3 div.sk-estimator:hover {background-color: #d4ebff;}#sk-container-id-3 div.sk-parallel-item::after {content: \"\";width: 100%;border-bottom: 1px solid gray;flex-grow: 1;}#sk-container-id-3 div.sk-label:hover label.sk-toggleable__label {background-color: #d4ebff;}#sk-container-id-3 div.sk-serial::before {content: \"\";position: absolute;border-left: 1px solid gray;box-sizing: border-box;top: 0;bottom: 0;left: 50%;z-index: 0;}#sk-container-id-3 div.sk-serial {display: flex;flex-direction: column;align-items: center;background-color: white;padding-right: 0.2em;padding-left: 0.2em;position: relative;}#sk-container-id-3 div.sk-item {position: relative;z-index: 1;}#sk-container-id-3 div.sk-parallel {display: flex;align-items: stretch;justify-content: center;background-color: white;position: relative;}#sk-container-id-3 div.sk-item::before, #sk-container-id-3 div.sk-parallel-item::before {content: \"\";position: absolute;border-left: 1px solid gray;box-sizing: border-box;top: 0;bottom: 0;left: 50%;z-index: -1;}#sk-container-id-3 div.sk-parallel-item {display: flex;flex-direction: column;z-index: 1;position: relative;background-color: white;}#sk-container-id-3 div.sk-parallel-item:first-child::after {align-self: flex-end;width: 50%;}#sk-container-id-3 div.sk-parallel-item:last-child::after {align-self: flex-start;width: 50%;}#sk-container-id-3 div.sk-parallel-item:only-child::after {width: 0;}#sk-container-id-3 div.sk-dashed-wrapped {border: 1px dashed gray;margin: 0 0.4em 0.5em 0.4em;box-sizing: border-box;padding-bottom: 0.4em;background-color: white;}#sk-container-id-3 div.sk-label label {font-family: monospace;font-weight: bold;display: inline-block;line-height: 1.2em;}#sk-container-id-3 div.sk-label-container {text-align: center;}#sk-container-id-3 div.sk-container {/* jupyter's `normalize.less` sets `[hidden] { display: none; }` but bootstrap.min.css set `[hidden] { display: none !important; }` so we also need the `!important` here to be able to override the default hidden behavior on the sphinx rendered scikit-learn.org. See: https://github.com/scikit-learn/scikit-learn/issues/21755 */display: inline-block !important;position: relative;}#sk-container-id-3 div.sk-text-repr-fallback {display: none;}</style><div id=\"sk-container-id-3\" class=\"sk-top-container\"><div class=\"sk-text-repr-fallback\"><pre>LinearRegression()</pre><b>In a Jupyter environment, please rerun this cell to show the HTML representation or trust the notebook. <br />On GitHub, the HTML representation is unable to render, please try loading this page with nbviewer.org.</b></div><div class=\"sk-container\" hidden><div class=\"sk-item\"><div class=\"sk-estimator sk-toggleable\"><input class=\"sk-toggleable__control sk-hidden--visually\" id=\"sk-estimator-id-3\" type=\"checkbox\" checked><label for=\"sk-estimator-id-3\" class=\"sk-toggleable__label sk-toggleable__label-arrow\">LinearRegression</label><div class=\"sk-toggleable__content\"><pre>LinearRegression()</pre></div></div></div></div></div>"
            ]
          },
          "metadata": {},
          "execution_count": 98
        }
      ]
    },
    {
      "cell_type": "code",
      "source": [],
      "metadata": {
        "id": "vveYCmeKHNJK"
      },
      "execution_count": null,
      "outputs": []
    },
    {
      "cell_type": "code",
      "source": [
        "# Make predictions on the testing set\n",
        "y_pred = model.predict(X_test)  # Use the trained model to make predictions on the testing set."
      ],
      "metadata": {
        "id": "E1a00NeNHlvw"
      },
      "execution_count": null,
      "outputs": []
    },
    {
      "cell_type": "code",
      "source": [],
      "metadata": {
        "id": "kKoK1vTlHm8Q"
      },
      "execution_count": null,
      "outputs": []
    },
    {
      "cell_type": "code",
      "source": [
        "# Evaluate the model"
      ],
      "metadata": {
        "id": "3kkwxLbQHm_i"
      },
      "execution_count": null,
      "outputs": []
    },
    {
      "cell_type": "code",
      "source": [
        "mse = mean_squared_error(y_test, y_pred)  # Calculate the mean squared error (MSE) between the actual and predicted values."
      ],
      "metadata": {
        "id": "RGo7lR4nHnCg"
      },
      "execution_count": null,
      "outputs": []
    },
    {
      "cell_type": "code",
      "source": [
        "rmse = np.sqrt(mse)  # Calculate the root mean squared error (RMSE) from the MSE."
      ],
      "metadata": {
        "id": "C_rJpiWtHnFZ"
      },
      "execution_count": null,
      "outputs": []
    },
    {
      "cell_type": "code",
      "source": [
        "r2 = r2_score(y_test, y_pred)  # Calculate the R^2 score, which measures the proportion of the variance in the dependent variable that is predictable from the independent variables."
      ],
      "metadata": {
        "id": "444_Ox-DHnIN"
      },
      "execution_count": null,
      "outputs": []
    },
    {
      "cell_type": "code",
      "source": [],
      "metadata": {
        "id": "WD-NDlAcHl6f"
      },
      "execution_count": null,
      "outputs": []
    },
    {
      "cell_type": "code",
      "source": [
        "# Print model evaluation metrics"
      ],
      "metadata": {
        "id": "BCwOQ_IvT2to"
      },
      "execution_count": null,
      "outputs": []
    },
    {
      "cell_type": "code",
      "source": [
        "print(\"Regression Model Evaluation:\")  # Print a header indicating that model evaluation metrics are being displayed."
      ],
      "metadata": {
        "colab": {
          "base_uri": "https://localhost:8080/"
        },
        "id": "az3_z-XoHl_u",
        "outputId": "b140e593-0d15-4d07-d73d-f8c5d5e27fe2"
      },
      "execution_count": null,
      "outputs": [
        {
          "output_type": "stream",
          "name": "stdout",
          "text": [
            "Regression Model Evaluation:\n"
          ]
        }
      ]
    },
    {
      "cell_type": "code",
      "source": [
        "print(\"Mean Squared Error (MSE):\", mse)  # Print the MSE."
      ],
      "metadata": {
        "colab": {
          "base_uri": "https://localhost:8080/"
        },
        "id": "G9Oh_CQDH5mW",
        "outputId": "314ef3e3-c316-4707-979a-bf5d4fb17a07"
      },
      "execution_count": null,
      "outputs": [
        {
          "output_type": "stream",
          "name": "stdout",
          "text": [
            "Mean Squared Error (MSE): 0.5690247717275324\n"
          ]
        }
      ]
    },
    {
      "cell_type": "code",
      "source": [
        "print(\"Root Mean Squared Error (RMSE):\", rmse)  # Print the RMSE."
      ],
      "metadata": {
        "colab": {
          "base_uri": "https://localhost:8080/"
        },
        "id": "NrnLR4WeH5pg",
        "outputId": "b6ecbc7e-9ea6-4246-b926-3675f038f2f9"
      },
      "execution_count": null,
      "outputs": [
        {
          "output_type": "stream",
          "name": "stdout",
          "text": [
            "Root Mean Squared Error (RMSE): 0.7543373063341972\n"
          ]
        }
      ]
    },
    {
      "cell_type": "code",
      "source": [
        "print(\"R^2 Score:\", r2)  # Print the R^2 score."
      ],
      "metadata": {
        "colab": {
          "base_uri": "https://localhost:8080/"
        },
        "id": "496RG56GH5th",
        "outputId": "85b9f642-92cd-4cfc-9374-fbcf506e892d"
      },
      "execution_count": null,
      "outputs": [
        {
          "output_type": "stream",
          "name": "stdout",
          "text": [
            "R^2 Score: 0.2652750042119669\n"
          ]
        }
      ]
    },
    {
      "cell_type": "code",
      "source": [],
      "metadata": {
        "id": "VJQZDEFvH5yr"
      },
      "execution_count": null,
      "outputs": []
    },
    {
      "cell_type": "code",
      "source": [
        "# Visualize actual vs. predicted values"
      ],
      "metadata": {
        "id": "tmSr1vq6H50m"
      },
      "execution_count": null,
      "outputs": []
    },
    {
      "cell_type": "code",
      "source": [
        "plt.figure(figsize=(10, 6))  # Create a new figure with a specified size for the plot.\n",
        "plt.scatter(y_test, y_pred, alpha=0.5)  # Create a scatter plot of actual vs. predicted values with transparency set to 0.5.\n",
        "plt.plot([min(y_test), max(y_test)], [min(y_test), max(y_test)], linestyle='--', color='red')  # Plot a diagonal line representing perfect predictions.\n",
        "plt.title(\"Actual vs. Predicted Wine Quality\")  # Set the title of the plot.\n",
        "plt.xlabel(\"Actual Quality\")  # Set the label for the x-axis.\n",
        "plt.ylabel(\"Predicted Quality\")  # Set the label for the y-axis.\n",
        "plt.show()  # Display the plot."
      ],
      "metadata": {
        "colab": {
          "base_uri": "https://localhost:8080/",
          "height": 564
        },
        "id": "4GG21ZMUInmx",
        "outputId": "e9c028e2-ce8b-4183-acb3-f82e6baa392d"
      },
      "execution_count": null,
      "outputs": [
        {
          "output_type": "display_data",
          "data": {
            "text/plain": [
              "<Figure size 1000x600 with 1 Axes>"
            ],
            "image/png": "[encoded data removed]"
          },
          "metadata": {}
        }
      ]
    },
    {
      "cell_type": "code",
      "source": [],
      "metadata": {
        "id": "oNruytz2dY7_"
      },
      "execution_count": null,
      "outputs": []
    },
    {
      "cell_type": "code",
      "source": [],
      "metadata": {
        "id": "PxO_GrrXdY-z"
      },
      "execution_count": null,
      "outputs": []
    },
    {
      "cell_type": "code",
      "source": [],
      "metadata": {
        "id": "G8Nhy39he9JC"
      },
      "execution_count": null,
      "outputs": []
    },
    {
      "cell_type": "markdown",
      "source": [
        "# MODEL SELCTION COMPARISON"
      ],
      "metadata": {
        "id": "dZvyqPZfgy9M"
      }
    },
    {
      "cell_type": "code",
      "source": [
        "# Description:\n",
        "# Comparing the performance of multiple regression models is essential for selecting the most suitable one for the dataset.\n",
        "# In this task, we evaluated three popular regression algorithms: Decision Trees, Random Forest, and Gradient Boosting.\n",
        "# By using cross-validation and calculating the mean squared error (MSE) for each model, we can assess their predictive\n",
        "# performance and identify the model with the lowest MSE as the best performer."
      ],
      "metadata": {
        "id": "W9D3pKree9Ma"
      },
      "execution_count": null,
      "outputs": []
    },
    {
      "cell_type": "code",
      "source": [],
      "metadata": {
        "id": "UCALws_XhCwZ"
      },
      "execution_count": null,
      "outputs": []
    },
    {
      "cell_type": "code",
      "source": [
        "# Import necessary libraries"
      ],
      "metadata": {
        "id": "IH90sqMbgjHX"
      },
      "execution_count": null,
      "outputs": []
    },
    {
      "cell_type": "code",
      "source": [
        "from sklearn.tree import DecisionTreeRegressor  # Importing DecisionTreeRegressor for decision tree regression\n"
      ],
      "metadata": {
        "id": "7RtHzXWjgjNV"
      },
      "execution_count": null,
      "outputs": []
    },
    {
      "cell_type": "code",
      "source": [
        "from sklearn.ensemble import RandomForestRegressor, GradientBoostingRegressor  # Importing ensemble regressors for Random Forest and Gradient Boosting\n"
      ],
      "metadata": {
        "id": "SYgq1ihMgjQQ"
      },
      "execution_count": null,
      "outputs": []
    },
    {
      "cell_type": "code",
      "source": [
        "from sklearn.model_selection import cross_val_score  # Importing cross_val_score for model evaluation"
      ],
      "metadata": {
        "id": "JluDa_E2e9PQ"
      },
      "execution_count": null,
      "outputs": []
    },
    {
      "cell_type": "code",
      "source": [],
      "metadata": {
        "id": "fqK7Mqt6hGav"
      },
      "execution_count": null,
      "outputs": []
    },
    {
      "cell_type": "code",
      "source": [
        "# Initialize regression models"
      ],
      "metadata": {
        "id": "Rlq-XTp6hGdc"
      },
      "execution_count": null,
      "outputs": []
    },
    {
      "cell_type": "code",
      "source": [
        "models = {\n",
        "    \"Decision Tree\": DecisionTreeRegressor(),  # Initializing Decision Tree Regressor\n",
        "    \"Random Forest\": RandomForestRegressor(),  # Initializing Random Forest Regressor\n",
        "    \"Gradient Boosting\": GradientBoostingRegressor()  # Initializing Gradient Boosting Regressor\n",
        "}"
      ],
      "metadata": {
        "id": "64SWLfZJhGgE"
      },
      "execution_count": null,
      "outputs": []
    },
    {
      "cell_type": "code",
      "source": [],
      "metadata": {
        "id": "-BXi6WOChGii"
      },
      "execution_count": null,
      "outputs": []
    },
    {
      "cell_type": "code",
      "source": [
        "# Evaluate and compare model performance using cross-validation"
      ],
      "metadata": {
        "id": "KbjCNEk6hGlF"
      },
      "execution_count": null,
      "outputs": []
    },
    {
      "cell_type": "code",
      "source": [
        "for name, model in models.items():\n",
        "    scores = cross_val_score(model, df.drop(columns=['quality']), df['quality'], cv=5, scoring='neg_mean_squared_error')  # Evaluating model performance using cross-validation\n"
      ],
      "metadata": {
        "id": "13z-Ym9ChGno"
      },
      "execution_count": null,
      "outputs": []
    },
    {
      "cell_type": "code",
      "source": [
        " print(f\"{name} MSE: {np.mean(-scores):.2f} (+/- {np.std(scores):.2f})\")  # Printing mean squared error (MSE) for each model"
      ],
      "metadata": {
        "colab": {
          "base_uri": "https://localhost:8080/"
        },
        "id": "r4xM1i3ChGrA",
        "outputId": "c827830c-79dc-42ec-ceef-d04f02ba06d2"
      },
      "execution_count": null,
      "outputs": [
        {
          "output_type": "stream",
          "name": "stdout",
          "text": [
            "Gradient Boosting MSE: 0.54 (+/- 0.07)\n"
          ]
        }
      ]
    },
    {
      "cell_type": "code",
      "source": [],
      "metadata": {
        "id": "rJqrFmKLhGtq"
      },
      "execution_count": null,
      "outputs": []
    },
    {
      "cell_type": "code",
      "source": [
        "# Justification: Comparing multiple models helps identify the best performing one for the dataset.\n"
      ],
      "metadata": {
        "id": "FadY4zhKe9SQ"
      },
      "execution_count": null,
      "outputs": []
    },
    {
      "cell_type": "code",
      "source": [],
      "metadata": {
        "id": "6pv2xz37e9VN"
      },
      "execution_count": null,
      "outputs": []
    },
    {
      "cell_type": "code",
      "source": [],
      "metadata": {
        "id": "3vJM0YUghcoI"
      },
      "execution_count": null,
      "outputs": []
    },
    {
      "cell_type": "markdown",
      "source": [
        "# HYPERPARAMETER TUNING"
      ],
      "metadata": {
        "id": "GMnv9_zxhwm8"
      }
    },
    {
      "cell_type": "code",
      "source": [
        "# Description:\n",
        "# Hyperparameter tuning is a critical step in optimizing machine learning models. It involves searching for the best\n",
        "# combination of hyperparameters that maximize model performance. Here, we used GridSearchCV to perform hyperparameter\n",
        "# tuning for each regression model. By specifying a grid of hyperparameters to search over and using cross-validation\n",
        "# to evaluate each combination, we can identify the optimal hyperparameters for each model."
      ],
      "metadata": {
        "id": "10rhHoOOht9f"
      },
      "execution_count": null,
      "outputs": []
    },
    {
      "cell_type": "code",
      "source": [],
      "metadata": {
        "id": "JfcYKuOzhuAb"
      },
      "execution_count": null,
      "outputs": []
    },
    {
      "cell_type": "code",
      "source": [
        "# Import GridSearchCV from scikit-learn"
      ],
      "metadata": {
        "id": "76hXFNcShuCm"
      },
      "execution_count": null,
      "outputs": []
    },
    {
      "cell_type": "code",
      "source": [
        "from sklearn.model_selection import GridSearchCV  # Importing GridSearchCV for hyperparameter tuning"
      ],
      "metadata": {
        "id": "rdpkxBabhuFA"
      },
      "execution_count": null,
      "outputs": []
    },
    {
      "cell_type": "code",
      "source": [],
      "metadata": {
        "id": "KPPCNpVmhuJk"
      },
      "execution_count": null,
      "outputs": []
    },
    {
      "cell_type": "code",
      "source": [
        "# Define hyperparameters to tune for each model"
      ],
      "metadata": {
        "id": "6unwvfyuhuNJ"
      },
      "execution_count": null,
      "outputs": []
    },
    {
      "cell_type": "code",
      "source": [
        "param_grid = {\n",
        "    \"Decision Tree\": {'max_depth': [3, 5, 7]},  # Hyperparameters grid for Decision Tree\n",
        "    \"Random Forest\": {'n_estimators': [50, 100, 200], 'max_depth': [3, 5, 7]},  # Hyperparameters grid for Random Forest\n",
        "    \"Gradient Boosting\": {'n_estimators': [50, 100, 200], 'learning_rate': [0.01, 0.1, 0.5]}  # Hyperparameters grid for Gradient Boosting\n",
        "}"
      ],
      "metadata": {
        "id": "dwsAuTe9huYp"
      },
      "execution_count": null,
      "outputs": []
    },
    {
      "cell_type": "code",
      "source": [],
      "metadata": {
        "id": "iOlPhpQ0iKZ8"
      },
      "execution_count": null,
      "outputs": []
    },
    {
      "cell_type": "code",
      "source": [
        "# Perform GridSearchCV for each model"
      ],
      "metadata": {
        "id": "H8YSojW4iKce"
      },
      "execution_count": null,
      "outputs": []
    },
    {
      "cell_type": "code",
      "source": [
        "for name, model in models.items():\n",
        "    grid_search = GridSearchCV(model, param_grid[name], cv=5, scoring='neg_mean_squared_error')  # Performing GridSearchCV for hyperparameter tuning\n",
        "    grid_search.fit(df.drop(columns=['quality']), df['quality'])  # Fitting the GridSearchCV object to the data\n",
        "    print(f\"Best {name} Parameters: {grid_search.best_params_}\")  # Printing best hyperparameters for each model\n",
        "    print(f\"Best {name} MSE: {grid_search.best_score_:.2f}\")  # Printing best mean squared error (MSE) for each model"
      ],
      "metadata": {
        "colab": {
          "base_uri": "https://localhost:8080/"
        },
        "id": "6sruCt3viKfT",
        "outputId": "2d7efc34-786e-4e13-e4d0-70297620ebc5"
      },
      "execution_count": null,
      "outputs": [
        {
          "output_type": "stream",
          "name": "stdout",
          "text": [
            "Best Decision Tree Parameters: {'max_depth': 5}\n",
            "Best Decision Tree MSE: -0.59\n",
            "Best Random Forest Parameters: {'max_depth': 7, 'n_estimators': 50}\n",
            "Best Random Forest MSE: -0.54\n",
            "Best Gradient Boosting Parameters: {'learning_rate': 0.1, 'n_estimators': 50}\n",
            "Best Gradient Boosting MSE: -0.54\n"
          ]
        }
      ]
    },
    {
      "cell_type": "code",
      "source": [],
      "metadata": {
        "id": "7wVkMbxniKiN"
      },
      "execution_count": null,
      "outputs": []
    },
    {
      "cell_type": "code",
      "source": [
        "# Justification: Hyperparameter tuning optimizes model performance by finding the best combination of hyperparameters."
      ],
      "metadata": {
        "id": "zDbPG4-MiKkp"
      },
      "execution_count": null,
      "outputs": []
    },
    {
      "cell_type": "code",
      "source": [],
      "metadata": {
        "id": "sj2EE4C7iKnl"
      },
      "execution_count": null,
      "outputs": []
    },
    {
      "cell_type": "code",
      "source": [],
      "metadata": {
        "id": "5JC0twaDiKqx"
      },
      "execution_count": null,
      "outputs": []
    },
    {
      "cell_type": "markdown",
      "source": [
        "# MODEL INTERPRETATION"
      ],
      "metadata": {
        "id": "4-HsYDkFi4dD"
      }
    },
    {
      "cell_type": "code",
      "source": [
        "# Description:\n",
        "# Understanding the importance of features in the trained model is essential for interpreting its predictions.\n",
        "# In this task, we trained the best performing model selected from the previous steps and extracted its feature importances.\n",
        "# Visualizing feature importances allows us to identify the most influential variables that contribute to the model's predictions.\n",
        "# This insight can help stakeholders understand the driving factors behind the target variable and guide decision-making."
      ],
      "metadata": {
        "id": "JKVBe-TEiYnR"
      },
      "execution_count": null,
      "outputs": []
    },
    {
      "cell_type": "code",
      "source": [],
      "metadata": {
        "id": "4AvrwF5PiYqM"
      },
      "execution_count": null,
      "outputs": []
    },
    {
      "cell_type": "code",
      "source": [
        "# Train the best performing model"
      ],
      "metadata": {
        "id": "r37L2WCQhczY"
      },
      "execution_count": null,
      "outputs": []
    },
    {
      "cell_type": "code",
      "source": [
        "best_model = RandomForestRegressor(n_estimators=100, max_depth=5)  # Initializing the best performing model (Random Forest Regressor)"
      ],
      "metadata": {
        "id": "KoJjnSw-hc68"
      },
      "execution_count": null,
      "outputs": []
    },
    {
      "cell_type": "code",
      "source": [],
      "metadata": {
        "id": "NF8g1b_GjFta"
      },
      "execution_count": null,
      "outputs": []
    },
    {
      "cell_type": "code",
      "source": [
        "# Fit the model to the data"
      ],
      "metadata": {
        "id": "QFYYtzxnjFw0"
      },
      "execution_count": null,
      "outputs": []
    },
    {
      "cell_type": "code",
      "source": [
        "best_model.fit(df.drop(columns=['quality']), df['quality'])  # Fitting the model to the data"
      ],
      "metadata": {
        "colab": {
          "base_uri": "https://localhost:8080/",
          "height": 75
        },
        "id": "EBlzx6ywjFze",
        "outputId": "992efc49-7123-4c19-d1c2-dc1ac150636d"
      },
      "execution_count": null,
      "outputs": [
        {
          "output_type": "execute_result",
          "data": {
            "text/plain": [
              "RandomForestRegressor(max_depth=5)"
            ],
            "text/html": [
              "<style>#sk-container-id-4 {color: black;background-color: white;}#sk-container-id-4 pre{padding: 0;}#sk-container-id-4 div.sk-toggleable {background-color: white;}#sk-container-id-4 label.sk-toggleable__label {cursor: pointer;display: block;width: 100%;margin-bottom: 0;padding: 0.3em;box-sizing: border-box;text-align: center;}#sk-container-id-4 label.sk-toggleable__label-arrow:before {content: \"▸\";float: left;margin-right: 0.25em;color: #696969;}#sk-container-id-4 label.sk-toggleable__label-arrow:hover:before {color: black;}#sk-container-id-4 div.sk-estimator:hover label.sk-toggleable__label-arrow:before {color: black;}#sk-container-id-4 div.sk-toggleable__content {max-height: 0;max-width: 0;overflow: hidden;text-align: left;background-color: #f0f8ff;}#sk-container-id-4 div.sk-toggleable__content pre {margin: 0.2em;color: black;border-radius: 0.25em;background-color: #f0f8ff;}#sk-container-id-4 input.sk-toggleable__control:checked~div.sk-toggleable__content {max-height: 200px;max-width: 100%;overflow: auto;}#sk-container-id-4 input.sk-toggleable__control:checked~label.sk-toggleable__label-arrow:before {content: \"▾\";}#sk-container-id-4 div.sk-estimator input.sk-toggleable__control:checked~label.sk-toggleable__label {background-color: #d4ebff;}#sk-container-id-4 div.sk-label input.sk-toggleable__control:checked~label.sk-toggleable__label {background-color: #d4ebff;}#sk-container-id-4 input.sk-hidden--visually {border: 0;clip: rect(1px 1px 1px 1px);clip: rect(1px, 1px, 1px, 1px);height: 1px;margin: -1px;overflow: hidden;padding: 0;position: absolute;width: 1px;}#sk-container-id-4 div.sk-estimator {font-family: monospace;background-color: #f0f8ff;border: 1px dotted black;border-radius: 0.25em;box-sizing: border-box;margin-bottom: 0.5em;}#sk-container-id-4 div.sk-estimator:hover {background-color: #d4ebff;}#sk-container-id-4 div.sk-parallel-item::after {content: \"\";width: 100%;border-bottom: 1px solid gray;flex-grow: 1;}#sk-container-id-4 div.sk-label:hover label.sk-toggleable__label {background-color: #d4ebff;}#sk-container-id-4 div.sk-serial::before {content: \"\";position: absolute;border-left: 1px solid gray;box-sizing: border-box;top: 0;bottom: 0;left: 50%;z-index: 0;}#sk-container-id-4 div.sk-serial {display: flex;flex-direction: column;align-items: center;background-color: white;padding-right: 0.2em;padding-left: 0.2em;position: relative;}#sk-container-id-4 div.sk-item {position: relative;z-index: 1;}#sk-container-id-4 div.sk-parallel {display: flex;align-items: stretch;justify-content: center;background-color: white;position: relative;}#sk-container-id-4 div.sk-item::before, #sk-container-id-4 div.sk-parallel-item::before {content: \"\";position: absolute;border-left: 1px solid gray;box-sizing: border-box;top: 0;bottom: 0;left: 50%;z-index: -1;}#sk-container-id-4 div.sk-parallel-item {display: flex;flex-direction: column;z-index: 1;position: relative;background-color: white;}#sk-container-id-4 div.sk-parallel-item:first-child::after {align-self: flex-end;width: 50%;}#sk-container-id-4 div.sk-parallel-item:last-child::after {align-self: flex-start;width: 50%;}#sk-container-id-4 div.sk-parallel-item:only-child::after {width: 0;}#sk-container-id-4 div.sk-dashed-wrapped {border: 1px dashed gray;margin: 0 0.4em 0.5em 0.4em;box-sizing: border-box;padding-bottom: 0.4em;background-color: white;}#sk-container-id-4 div.sk-label label {font-family: monospace;font-weight: bold;display: inline-block;line-height: 1.2em;}#sk-container-id-4 div.sk-label-container {text-align: center;}#sk-container-id-4 div.sk-container {/* jupyter's `normalize.less` sets `[hidden] { display: none; }` but bootstrap.min.css set `[hidden] { display: none !important; }` so we also need the `!important` here to be able to override the default hidden behavior on the sphinx rendered scikit-learn.org. See: https://github.com/scikit-learn/scikit-learn/issues/21755 */display: inline-block !important;position: relative;}#sk-container-id-4 div.sk-text-repr-fallback {display: none;}</style><div id=\"sk-container-id-4\" class=\"sk-top-container\"><div class=\"sk-text-repr-fallback\"><pre>RandomForestRegressor(max_depth=5)</pre><b>In a Jupyter environment, please rerun this cell to show the HTML representation or trust the notebook. <br />On GitHub, the HTML representation is unable to render, please try loading this page with nbviewer.org.</b></div><div class=\"sk-container\" hidden><div class=\"sk-item\"><div class=\"sk-estimator sk-toggleable\"><input class=\"sk-toggleable__control sk-hidden--visually\" id=\"sk-estimator-id-4\" type=\"checkbox\" checked><label for=\"sk-estimator-id-4\" class=\"sk-toggleable__label sk-toggleable__label-arrow\">RandomForestRegressor</label><div class=\"sk-toggleable__content\"><pre>RandomForestRegressor(max_depth=5)</pre></div></div></div></div></div>"
            ]
          },
          "metadata": {},
          "execution_count": 134
        }
      ]
    },
    {
      "cell_type": "code",
      "source": [],
      "metadata": {
        "id": "cuT5t_oxjF4e"
      },
      "execution_count": null,
      "outputs": []
    },
    {
      "cell_type": "code",
      "source": [
        "# Extract feature importances"
      ],
      "metadata": {
        "id": "Lt7rXHk3jF6a"
      },
      "execution_count": null,
      "outputs": []
    },
    {
      "cell_type": "code",
      "source": [
        "feature_importances = best_model.feature_importances_  # Extracting feature importances from the trained model"
      ],
      "metadata": {
        "id": "UnuiwXptjF-d"
      },
      "execution_count": null,
      "outputs": []
    },
    {
      "cell_type": "code",
      "source": [],
      "metadata": {
        "id": "e_KnjI2cjGCp"
      },
      "execution_count": null,
      "outputs": []
    },
    {
      "cell_type": "code",
      "source": [
        "# Visualize feature importances"
      ],
      "metadata": {
        "id": "LMPx1b5fjROO"
      },
      "execution_count": null,
      "outputs": []
    },
    {
      "cell_type": "code",
      "source": [
        "plt.figure(figsize=(10, 6))  # Setting figure size for visualization\n",
        "sns.barplot(x=feature_importances, y=df.columns.drop('quality'))  # Creating a bar plot for feature importances\n",
        "plt.title('Feature Importances')  # Setting title for the plot\n",
        "plt.xlabel('Importance')  # Setting label for x-axis\n",
        "plt.ylabel('Feature')  # Setting label for y-axis\n",
        "plt.show()  # Displaying the plot"
      ],
      "metadata": {
        "colab": {
          "base_uri": "https://localhost:8080/",
          "height": 564
        },
        "id": "VT4yzbL2jRSA",
        "outputId": "b18ab15f-c0ae-4da9-b603-f649361c2630"
      },
      "execution_count": null,
      "outputs": [
        {
          "output_type": "display_data",
          "data": {
            "text/plain": [
              "<Figure size 1000x600 with 1 Axes>"
            ],
            "image/png": "[encoded data removed]"
          },
          "metadata": {}
        }
      ]
    },
    {
      "cell_type": "code",
      "source": [],
      "metadata": {
        "id": "sDF7kKf2jRUr"
      },
      "execution_count": null,
      "outputs": []
    },
    {
      "cell_type": "code",
      "source": [],
      "metadata": {
        "id": "PxaTkKcfjRXY"
      },
      "execution_count": null,
      "outputs": []
    },
    {
      "cell_type": "code",
      "source": [
        "# Justification: Understanding feature importances helps identify the most influential variables in the model predictions."
      ],
      "metadata": {
        "id": "knZpT_6FjRZk"
      },
      "execution_count": null,
      "outputs": []
    },
    {
      "cell_type": "code",
      "source": [],
      "metadata": {
        "id": "wsoAtrEIjRcb"
      },
      "execution_count": null,
      "outputs": []
    },
    {
      "cell_type": "code",
      "source": [],
      "metadata": {
        "id": "ln4SnOpmjRfl"
      },
      "execution_count": null,
      "outputs": []
    },
    {
      "cell_type": "markdown",
      "source": [
        "# MODEL EVALUATION METRICS"
      ],
      "metadata": {
        "id": "cpRyVIMGjgkH"
      }
    },
    {
      "cell_type": "code",
      "source": [
        "# Description:\n",
        "# Evaluating model performance using various metrics provides a comprehensive assessment of its predictive capabilities.\n",
        "# In addition to mean squared error (MSE), we calculated two additional evaluation metrics: Mean Absolute Error (MAE)\n",
        "# and R-squared (R2). MAE measures the average absolute difference between predicted and actual values, providing\n",
        "# a straightforward interpretation of prediction errors. R-squared quantifies the proportion of variance explained by the\n",
        "# model, indicating its goodness of fit to the data. By considering multiple evaluation metrics, we gain a deeper understanding\n",
        "# of the model's strengths and weaknesses."
      ],
      "metadata": {
        "id": "AIqZe85IjlBK"
      },
      "execution_count": null,
      "outputs": []
    },
    {
      "cell_type": "code",
      "source": [],
      "metadata": {
        "id": "d4JiLKq2jlDr"
      },
      "execution_count": null,
      "outputs": []
    },
    {
      "cell_type": "code",
      "source": [
        "# Import mean_absolute_error and r2_score from scikit-learn"
      ],
      "metadata": {
        "id": "WlhrUAcxjlHp"
      },
      "execution_count": null,
      "outputs": []
    },
    {
      "cell_type": "code",
      "source": [
        "from sklearn.metrics import mean_absolute_error, r2_score  # Importing evaluation metrics from scikit-learn"
      ],
      "metadata": {
        "id": "AqGSMzxtjlK5"
      },
      "execution_count": null,
      "outputs": []
    },
    {
      "cell_type": "code",
      "source": [],
      "metadata": {
        "id": "cJwaBnvDjlNP"
      },
      "execution_count": null,
      "outputs": []
    },
    {
      "cell_type": "code",
      "source": [
        "# Make predictions using the best model"
      ],
      "metadata": {
        "id": "NArHhBnVjlPa"
      },
      "execution_count": null,
      "outputs": []
    },
    {
      "cell_type": "code",
      "source": [
        "predictions = best_model.predict(df.drop(columns=['quality']))  # Making predictions using the best model"
      ],
      "metadata": {
        "id": "34jwCeuYjlSL"
      },
      "execution_count": null,
      "outputs": []
    },
    {
      "cell_type": "code",
      "source": [],
      "metadata": {
        "id": "9HkYVOqEjz-b"
      },
      "execution_count": null,
      "outputs": []
    },
    {
      "cell_type": "code",
      "source": [
        "# Calculate additional evaluation metrics"
      ],
      "metadata": {
        "id": "ovKwIMj6j0Ay"
      },
      "execution_count": null,
      "outputs": []
    },
    {
      "cell_type": "code",
      "source": [
        "mae = mean_absolute_error(df['quality'], predictions)  # Calculating Mean Absolute Error (MAE)"
      ],
      "metadata": {
        "id": "1bthCiN4j0Df"
      },
      "execution_count": null,
      "outputs": []
    },
    {
      "cell_type": "code",
      "source": [
        "r_squared = r2_score(df['quality'], predictions)  # Calculating R-squared (R2)"
      ],
      "metadata": {
        "id": "Be5hQ9hwj0Kw"
      },
      "execution_count": null,
      "outputs": []
    },
    {
      "cell_type": "code",
      "source": [
        "print(f\"Mean Absolute Error: {mae:.2f}\")  # Printing Mean Absolute Error (MAE)"
      ],
      "metadata": {
        "colab": {
          "base_uri": "https://localhost:8080/"
        },
        "id": "I5v0YotXj8O3",
        "outputId": "e40cda0a-3dbb-4494-b035-6637313f549d"
      },
      "execution_count": null,
      "outputs": [
        {
          "output_type": "stream",
          "name": "stdout",
          "text": [
            "Mean Absolute Error: 0.54\n"
          ]
        }
      ]
    },
    {
      "cell_type": "code",
      "source": [
        "print(f\"R-squared: {r_squared:.2f}\")  # Printing R-squared (R2)"
      ],
      "metadata": {
        "colab": {
          "base_uri": "https://localhost:8080/"
        },
        "id": "0gqm_zW5j8R3",
        "outputId": "88089aac-dd3b-4e6d-ab04-a92e82928801"
      },
      "execution_count": null,
      "outputs": [
        {
          "output_type": "stream",
          "name": "stdout",
          "text": [
            "R-squared: 0.41\n"
          ]
        }
      ]
    },
    {
      "cell_type": "code",
      "source": [],
      "metadata": {
        "id": "0khX5NxHj8U2"
      },
      "execution_count": null,
      "outputs": []
    },
    {
      "cell_type": "code",
      "source": [
        "# Justification: Using additional evaluation metrics provides a more comprehensive understanding of model performance."
      ],
      "metadata": {
        "id": "YewHdzc6j8Xf"
      },
      "execution_count": null,
      "outputs": []
    },
    {
      "cell_type": "code",
      "source": [],
      "metadata": {
        "id": "-B0H9vnQIN6J"
      },
      "execution_count": null,
      "outputs": []
    }
  ]
}