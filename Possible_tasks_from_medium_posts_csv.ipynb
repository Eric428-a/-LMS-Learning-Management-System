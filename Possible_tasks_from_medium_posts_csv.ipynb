{
  "nbformat": 4,
  "nbformat_minor": 0,
  "metadata": {
    "colab": {
      "provenance": [],
      "authorship_tag": "ABX9TyP73fs6e1znN7iUZBOsqbiZ",
      "include_colab_link": true
    },
    "kernelspec": {
      "name": "python3",
      "display_name": "Python 3"
    },
    "language_info": {
      "name": "python"
    }
  },
  "cells": [
    {
      "cell_type": "markdown",
      "metadata": {
        "id": "view-in-github",
        "colab_type": "text"
      },
      "source": [
        "<a href=\"https://colab.research.google.com/github/Eric428-a/-LMS-Learning-Management-System/blob/master/Possible_tasks_from_medium_posts_csv.ipynb\" target=\"_parent\"><img src=\"https://colab.research.google.com/assets/colab-badge.svg\" alt=\"Open In Colab\"/></a>"
      ]
    },
    {
      "cell_type": "markdown",
      "source": [
        "EXPLANATORY DATA ANALYSIS"
      ],
      "metadata": {
        "id": "ZZVbw5WTt5_W"
      }
    },
    {
      "cell_type": "code",
      "source": [
        "# Import Necessary Libraries"
      ],
      "metadata": {
        "id": "KCG-gSwfoBkR"
      },
      "execution_count": null,
      "outputs": []
    },
    {
      "cell_type": "code",
      "execution_count": null,
      "metadata": {
        "id": "Evo1g_DFCwrm"
      },
      "outputs": [],
      "source": [
        "import pandas as pd  # pandas library for data manipulation and analysis"
      ]
    },
    {
      "cell_type": "code",
      "source": [
        "import numpy as np  # numpy library for numerical computing"
      ],
      "metadata": {
        "id": "Q8Wug4DuolYo"
      },
      "execution_count": null,
      "outputs": []
    },
    {
      "cell_type": "code",
      "source": [
        "import matplotlib.pyplot as plt  # matplotlib library for data visualization"
      ],
      "metadata": {
        "id": "Yzd15JnqoljK"
      },
      "execution_count": null,
      "outputs": []
    },
    {
      "cell_type": "code",
      "source": [
        "import seaborn as sns  # seaborn library for statistical data visualization"
      ],
      "metadata": {
        "id": "wwjrh04uoltQ"
      },
      "execution_count": null,
      "outputs": []
    },
    {
      "cell_type": "code",
      "source": [],
      "metadata": {
        "id": "fiSnKpC7EE5P"
      },
      "execution_count": null,
      "outputs": []
    },
    {
      "cell_type": "code",
      "source": [
        "# Load the Data"
      ],
      "metadata": {
        "id": "LxgC1OC1EE77"
      },
      "execution_count": null,
      "outputs": []
    },
    {
      "cell_type": "code",
      "source": [
        "df_data = pd.read_csv('/content/medium_posts.csv')  # Load the dataset 'medium_posts.csv' into a DataFrame named 'df_data'"
      ],
      "metadata": {
        "id": "ECLBNoF3ozFm"
      },
      "execution_count": null,
      "outputs": []
    },
    {
      "cell_type": "code",
      "source": [],
      "metadata": {
        "id": "axzD0KplEE_N"
      },
      "execution_count": null,
      "outputs": []
    },
    {
      "cell_type": "code",
      "source": [
        "# Inspect the Data"
      ],
      "metadata": {
        "id": "LEBfYSaCo2wH"
      },
      "execution_count": null,
      "outputs": []
    },
    {
      "cell_type": "code",
      "source": [
        "print(\"Head:\")  # Print the first few rows of the DataFrame to inspect its structure"
      ],
      "metadata": {
        "colab": {
          "base_uri": "https://localhost:8080/"
        },
        "id": "ldjCbiXoEFB8",
        "outputId": "e3dabf84-154d-4106-b82b-d854a93bbabf"
      },
      "execution_count": null,
      "outputs": [
        {
          "output_type": "stream",
          "name": "stdout",
          "text": [
            "Head:\n"
          ]
        }
      ]
    },
    {
      "cell_type": "code",
      "source": [
        "print(df_data.head())  # Display the first few rows of the DataFrame"
      ],
      "metadata": {
        "colab": {
          "base_uri": "https://localhost:8080/"
        },
        "id": "wAgRy8Zuo-a-",
        "outputId": "ede1c02f-0f2b-49d3-fd81-d845fc10a0d6"
      },
      "execution_count": null,
      "outputs": [
        {
          "output_type": "stream",
          "name": "stdout",
          "text": [
            "                  published           domain  \\\n",
            "0  2012-08-13 22:54:53.510Z       medium.com   \n",
            "1  2012-08-13 22:57:17.248Z       medium.com   \n",
            "2  2016-11-04 23:40:43.364Z       medium.com   \n",
            "3  2016-12-24 18:21:13.427Z       medium.com   \n",
            "4  2015-09-22 21:37:48.207Z  blog.medium.com   \n",
            "\n",
            "                                                 url  \n",
            "0  https://medium.com/policy/medium-terms-of-serv...  \n",
            "1  https://medium.com/policy/medium-privacy-polic...  \n",
            "2  https://medium.com/@Medium/personalize-your-me...  \n",
            "3  https://medium.com/holiday-poems/xmas-morning-...  \n",
            "4  https://blog.medium.com/taking-a-side-on-net-n...  \n"
          ]
        }
      ]
    },
    {
      "cell_type": "code",
      "source": [],
      "metadata": {
        "id": "jo-pMSIqo-dy"
      },
      "execution_count": null,
      "outputs": []
    },
    {
      "cell_type": "code",
      "source": [
        "print(\"\\nInfo:\")  # Print a concise summary of the DataFrame including the index dtype and column dtypes, non-null values, and memory usage"
      ],
      "metadata": {
        "colab": {
          "base_uri": "https://localhost:8080/"
        },
        "id": "C8u3LpPzFD8E",
        "outputId": "0f49bbd6-d3db-45c2-d4e6-d3f4cdd6b7ea"
      },
      "execution_count": null,
      "outputs": [
        {
          "output_type": "stream",
          "name": "stdout",
          "text": [
            "\n",
            "Info:\n"
          ]
        }
      ]
    },
    {
      "cell_type": "code",
      "source": [
        "print(df_data.info())  # Display information about the DataFrame including the data types of each column and memory usage"
      ],
      "metadata": {
        "colab": {
          "base_uri": "https://localhost:8080/"
        },
        "id": "ME3jEkTiEFIG",
        "outputId": "c27146a0-7a47-4cd1-94fb-398ed3f60b96"
      },
      "execution_count": null,
      "outputs": [
        {
          "output_type": "stream",
          "name": "stdout",
          "text": [
            "<class 'pandas.core.frame.DataFrame'>\n",
            "RangeIndex: 92191 entries, 0 to 92190\n",
            "Data columns (total 3 columns):\n",
            " #   Column     Non-Null Count  Dtype \n",
            "---  ------     --------------  ----- \n",
            " 0   published  92191 non-null  object\n",
            " 1   domain     92191 non-null  object\n",
            " 2   url        92191 non-null  object\n",
            "dtypes: object(3)\n",
            "memory usage: 2.1+ MB\n",
            "None\n"
          ]
        }
      ]
    },
    {
      "cell_type": "code",
      "source": [],
      "metadata": {
        "id": "J-SUlg_gpKYe"
      },
      "execution_count": null,
      "outputs": []
    },
    {
      "cell_type": "code",
      "source": [
        "print(\"\\nDescription:\")  # Print the statistical summary of the DataFrame"
      ],
      "metadata": {
        "id": "LURz1CswE2nE",
        "colab": {
          "base_uri": "https://localhost:8080/"
        },
        "outputId": "b173e2bd-bd2f-4a72-b3f0-315976f65b6d"
      },
      "execution_count": null,
      "outputs": [
        {
          "output_type": "stream",
          "name": "stdout",
          "text": [
            "\n",
            "Description:\n"
          ]
        }
      ]
    },
    {
      "cell_type": "code",
      "source": [
        "print(df_data.describe())  # Display the summary statistics of the numerical columns in the DataFrame"
      ],
      "metadata": {
        "id": "fsj2X1D-MQDw",
        "colab": {
          "base_uri": "https://localhost:8080/"
        },
        "outputId": "9cadd411-81d9-4014-e0b1-c885b1502e2f"
      },
      "execution_count": null,
      "outputs": [
        {
          "output_type": "stream",
          "name": "stdout",
          "text": [
            "                       published      domain                      url\n",
            "count                      92191       92191                    92191\n",
            "unique                     92063         143                    92144\n",
            "top     2016-03-21 00:00:00.000Z  medium.com  https://medium.com/iiot\n",
            "freq                           5       90186                       25\n"
          ]
        }
      ]
    },
    {
      "cell_type": "code",
      "source": [],
      "metadata": {
        "id": "HhX4AppbpRtE"
      },
      "execution_count": null,
      "outputs": []
    },
    {
      "cell_type": "code",
      "source": [
        "\n",
        "# Check for Missing Values"
      ],
      "metadata": {
        "id": "XZaAhJRiMQGk"
      },
      "execution_count": null,
      "outputs": []
    },
    {
      "cell_type": "code",
      "source": [
        "missing_values = df_data.isnull().sum()  # Count the number of missing values in each column of the DataFrame"
      ],
      "metadata": {
        "id": "eIEEuYN8MZwp"
      },
      "execution_count": null,
      "outputs": []
    },
    {
      "cell_type": "code",
      "source": [
        "print(\"\\nMissing Values:\")  # Print the count of missing values in each column"
      ],
      "metadata": {
        "id": "76muEBAuMaAh",
        "colab": {
          "base_uri": "https://localhost:8080/"
        },
        "outputId": "000265c3-5ecc-4636-edc2-74e3b1500369"
      },
      "execution_count": null,
      "outputs": [
        {
          "output_type": "stream",
          "name": "stdout",
          "text": [
            "\n",
            "Missing Values:\n"
          ]
        }
      ]
    },
    {
      "cell_type": "code",
      "source": [
        "print(missing_values)  # Display the count of missing values in each column"
      ],
      "metadata": {
        "id": "1RAFtK5sMhY1",
        "colab": {
          "base_uri": "https://localhost:8080/"
        },
        "outputId": "09620198-ef7d-4011-ba58-c5aa37f7ecb4"
      },
      "execution_count": null,
      "outputs": [
        {
          "output_type": "stream",
          "name": "stdout",
          "text": [
            "published    0\n",
            "domain       0\n",
            "url          0\n",
            "dtype: int64\n"
          ]
        }
      ]
    },
    {
      "cell_type": "code",
      "source": [],
      "metadata": {
        "id": "5ZTtwzgjpgcz"
      },
      "execution_count": null,
      "outputs": []
    },
    {
      "cell_type": "code",
      "source": [
        "# Handle Missing Values"
      ],
      "metadata": {
        "id": "p7BrZPtQpg7G"
      },
      "execution_count": null,
      "outputs": []
    },
    {
      "cell_type": "code",
      "source": [
        "# N/A (No missing values to handle in our dataset)\n",
        "# we would have done this if our dataset had missing values\n",
        "# Fill missing values with the mean"
      ],
      "metadata": {
        "id": "Tc94BklFMhp5"
      },
      "execution_count": null,
      "outputs": []
    },
    {
      "cell_type": "code",
      "source": [
        "#df_data.fillna(df_data.mean(), inplace=True)"
      ],
      "metadata": {
        "id": "riGYkvkyM3Ee"
      },
      "execution_count": null,
      "outputs": []
    },
    {
      "cell_type": "code",
      "source": [],
      "metadata": {
        "id": "GZ-89pTwNKG2"
      },
      "execution_count": null,
      "outputs": []
    },
    {
      "cell_type": "code",
      "source": [
        "\n",
        "# Check for Duplicate Values"
      ],
      "metadata": {
        "id": "QKLbjZ8YM3HQ"
      },
      "execution_count": null,
      "outputs": []
    },
    {
      "cell_type": "code",
      "source": [
        "print(\"\\nDuplicate Values:\")  # Print the count of duplicate rows in the DataFrame"
      ],
      "metadata": {
        "id": "FKHr6vAsNId6",
        "colab": {
          "base_uri": "https://localhost:8080/"
        },
        "outputId": "5a06b1c8-dfe0-4568-fd68-078b562cea18"
      },
      "execution_count": null,
      "outputs": [
        {
          "output_type": "stream",
          "name": "stdout",
          "text": [
            "\n",
            "Duplicate Values:\n"
          ]
        }
      ]
    },
    {
      "cell_type": "code",
      "source": [
        "print(df_data.duplicated().sum())  # Display the count of duplicate rows in the DataFrame"
      ],
      "metadata": {
        "id": "n88wT3G2E2qD",
        "colab": {
          "base_uri": "https://localhost:8080/"
        },
        "outputId": "a6fda37b-7b39-42c2-f7de-a41db0a0c3d6"
      },
      "execution_count": null,
      "outputs": [
        {
          "output_type": "stream",
          "name": "stdout",
          "text": [
            "10\n"
          ]
        }
      ]
    },
    {
      "cell_type": "code",
      "source": [],
      "metadata": {
        "id": "uDDIEWs0rRB1"
      },
      "execution_count": null,
      "outputs": []
    },
    {
      "cell_type": "code",
      "source": [
        "# Remove Duplicate Values"
      ],
      "metadata": {
        "id": "u3zjvCdJrRdR"
      },
      "execution_count": null,
      "outputs": []
    },
    {
      "cell_type": "code",
      "source": [
        "df_data.drop_duplicates(inplace=True)  # Remove duplicate rows from the DataFrame"
      ],
      "metadata": {
        "id": "ZELZTb2SE2s1"
      },
      "execution_count": null,
      "outputs": []
    },
    {
      "cell_type": "code",
      "source": [],
      "metadata": {
        "id": "I8oBRHJ4rYP7"
      },
      "execution_count": null,
      "outputs": []
    },
    {
      "cell_type": "code",
      "source": [
        "# Additional Exploration\n",
        "# Count the number of articles per domain"
      ],
      "metadata": {
        "id": "22Eh41UBE2wE"
      },
      "execution_count": null,
      "outputs": []
    },
    {
      "cell_type": "code",
      "source": [
        "domain_counts = df_data['domain'].value_counts()  # Count the number of articles for each unique domain in the DataFrame"
      ],
      "metadata": {
        "id": "Y51khu6ME2zR"
      },
      "execution_count": null,
      "outputs": []
    },
    {
      "cell_type": "code",
      "source": [
        "print(\"\\nNumber of Articles per Domain:\")  # Print the count of articles for each domain"
      ],
      "metadata": {
        "colab": {
          "base_uri": "https://localhost:8080/"
        },
        "id": "As3fs1OUHsi-",
        "outputId": "10b9f0a1-ad50-4bb3-e0ff-431cd80cc478"
      },
      "execution_count": null,
      "outputs": [
        {
          "output_type": "stream",
          "name": "stdout",
          "text": [
            "\n",
            "Number of Articles per Domain:\n"
          ]
        }
      ]
    },
    {
      "cell_type": "code",
      "source": [
        "print(domain_counts)  # Display the count of articles for each domain"
      ],
      "metadata": {
        "id": "bdj82pX1Hs1a",
        "colab": {
          "base_uri": "https://localhost:8080/"
        },
        "outputId": "4a1960e0-ae5c-4924-f7f0-b379c152d552"
      },
      "execution_count": null,
      "outputs": [
        {
          "output_type": "stream",
          "name": "stdout",
          "text": [
            "domain\n",
            "medium.com              90176\n",
            "hackernoon.com           1406\n",
            "themission.co             135\n",
            "blog.medium.com            82\n",
            "thecoffeelicious.com       33\n",
            "                        ...  \n",
            "the-ipad-artist.com         1\n",
            "curiouscivilian.com         1\n",
            "blog.framer.com             1\n",
            "chatbotnewsdaily.com        1\n",
            "theascent.biz               1\n",
            "Name: count, Length: 143, dtype: int64\n"
          ]
        }
      ]
    },
    {
      "cell_type": "code",
      "source": [],
      "metadata": {
        "id": "60NindW4r-vq"
      },
      "execution_count": null,
      "outputs": []
    },
    {
      "cell_type": "code",
      "source": [
        "\n",
        "# Display the top 10 most frequent domains"
      ],
      "metadata": {
        "id": "kHVEzPOUr-yl"
      },
      "execution_count": null,
      "outputs": []
    },
    {
      "cell_type": "code",
      "source": [
        "top_10_domains = domain_counts.head(10)  # Select the top 10 most frequent domains"
      ],
      "metadata": {
        "id": "2KQbqYf0HtBJ"
      },
      "execution_count": null,
      "outputs": []
    },
    {
      "cell_type": "code",
      "source": [
        "print(\"\\nTop 10 Most Frequent Domains:\")  # Print the top 10 most frequent domains"
      ],
      "metadata": {
        "id": "8kNBB98UHtD-",
        "colab": {
          "base_uri": "https://localhost:8080/"
        },
        "outputId": "05c9e095-71a1-4589-c288-9bf6b8e7d61a"
      },
      "execution_count": null,
      "outputs": [
        {
          "output_type": "stream",
          "name": "stdout",
          "text": [
            "\n",
            "Top 10 Most Frequent Domains:\n"
          ]
        }
      ]
    },
    {
      "cell_type": "code",
      "source": [
        "print(top_10_domains)  # Display the top 10 most frequent domains"
      ],
      "metadata": {
        "colab": {
          "base_uri": "https://localhost:8080/"
        },
        "id": "m1oPzfHTsHPF",
        "outputId": "779e07a4-d62a-4552-ad62-02479c092ca6"
      },
      "execution_count": null,
      "outputs": [
        {
          "output_type": "stream",
          "name": "stdout",
          "text": [
            "domain\n",
            "medium.com                90176\n",
            "hackernoon.com             1406\n",
            "themission.co               135\n",
            "blog.medium.com              82\n",
            "thecoffeelicious.com         33\n",
            "byrslf.co                    27\n",
            "praxis.fortelabs.co          16\n",
            "artplusmarketing.com         15\n",
            "acumenideas.com              11\n",
            "writingcooperative.com       10\n",
            "Name: count, dtype: int64\n"
          ]
        }
      ]
    },
    {
      "cell_type": "code",
      "source": [],
      "metadata": {
        "id": "60njQ62fsHR1"
      },
      "execution_count": null,
      "outputs": []
    },
    {
      "cell_type": "code",
      "source": [
        "# Visualize the distribution of publication dates"
      ],
      "metadata": {
        "id": "UtuHrINDsHUm"
      },
      "execution_count": null,
      "outputs": []
    },
    {
      "cell_type": "code",
      "source": [
        "df_data['published'] = pd.to_datetime(df_data['published'])  # Convert the 'published' column to datetime format\n",
        "plt.figure(figsize=(10, 6))  # Set the figure size for the plot\n",
        "sns.histplot(df_data['published'].dt.year, bins=len(df_data['published'].dt.year.unique()), kde=False)  # Create a histogram to visualize the distribution of publication years\n",
        "plt.xlabel('Year')  # Set the label for the x-axis\n",
        "plt.ylabel('Number of Articles')  # Set the label for the y-axis\n",
        "plt.title('Distribution of Publication Years')  # Set the title of the plot\n",
        "plt.show()  # Display the plot"
      ],
      "metadata": {
        "colab": {
          "base_uri": "https://localhost:8080/",
          "height": 564
        },
        "id": "mULUKKo7sNms",
        "outputId": "5bb1d204-b488-46bd-d772-81a9cbe557c9"
      },
      "execution_count": null,
      "outputs": [
        {
          "output_type": "display_data",
          "data": {
            "text/plain": [
              "<Figure size 1000x600 with 1 Axes>"
            ],
            "image/png": "[encoded data removed]"
          },
          "metadata": {}
        }
      ]
    },
    {
      "cell_type": "code",
      "source": [],
      "metadata": {
        "id": "V31Jd82ssZli"
      },
      "execution_count": null,
      "outputs": []
    },
    {
      "cell_type": "code",
      "source": [],
      "metadata": {
        "id": "-KmsGG5UsZy2"
      },
      "execution_count": null,
      "outputs": []
    },
    {
      "cell_type": "code",
      "source": [
        "# Check Data Distribution\n",
        "# Check the distribution of data in each column. This can help identify skewness, outliers, or other distribution characteristics.\n",
        "# Note: Not applicable for this dataset as visualizing the distribution requires numerical data, and the 'df' DataFrame contains categorical data.\n",
        "# df.hist(bins=30, figsize=(20,15), density=True)\n",
        "# plt.show()\n",
        "\n",
        "# Reason for not doing: The dataset contains categorical variables, making it unsuitable for histogram visualization, which requires numerical data.\n"
      ],
      "metadata": {
        "id": "TLsy3L6JsZ9w"
      },
      "execution_count": null,
      "outputs": []
    },
    {
      "cell_type": "code",
      "source": [],
      "metadata": {
        "id": "F0MqS9yhsaIA"
      },
      "execution_count": null,
      "outputs": []
    },
    {
      "cell_type": "code",
      "source": [
        "# Check Correlations\n",
        "# Check the correlation between different variables in your dataset. This can help identify relationships between different variables.\n",
        "# Note: Not applicable for this dataset as it contains categorical variables, and correlation analysis is typically performed on numerical data.\n",
        "# # Correlation matrix\n",
        "# sns.heatmap(df.corr(), annot=True)\n",
        "# plt.show()\n",
        "\n",
        "# Reason for not doing: Correlation analysis is not meaningful for categorical variables. The dataset needs preprocessing for correlation analysis.\n",
        "\n"
      ],
      "metadata": {
        "id": "4RpKm__CsaKe"
      },
      "execution_count": null,
      "outputs": []
    },
    {
      "cell_type": "code",
      "source": [],
      "metadata": {
        "id": "JpMmrclZsaND"
      },
      "execution_count": null,
      "outputs": []
    },
    {
      "cell_type": "code",
      "source": [
        "# Handle Categorical Variables\n",
        "# If your data contains categorical variables, you might need to encode them into numerical values using techniques like one-hot encoding or label encoding.\n",
        "# Note: Not applicable for this dataset as it already underwent one-hot encoding during preprocessing.\n",
        "# df = pd.get_dummies(df, drop_first=True)\n",
        "\n",
        "# Reason for not doing: The dataset has already been encoded using one-hot encoding, eliminating the need for further encoding.\n"
      ],
      "metadata": {
        "id": "eUhep5b4skCh"
      },
      "execution_count": null,
      "outputs": []
    },
    {
      "cell_type": "code",
      "source": [],
      "metadata": {
        "id": "MTLxon41skFi"
      },
      "execution_count": null,
      "outputs": []
    },
    {
      "cell_type": "code",
      "source": [
        "# Outlier Detection\n",
        "# Outliers can significantly impact your analysis and statistical models. Use methods like the IQR score or Z-score to detect and handle outliers.\n",
        "# Note: Not applicable for this dataset as categorical variables are not suitable for outlier detection using traditional methods.\n",
        "# Q1 = df.quantile(0.25)\n",
        "# Q3 = df.quantile(0.75)\n",
        "# IQR = Q3 - Q1\n",
        "# df = df[~((df < (Q1 - 1.5 * IQR)) | (df > (Q3 + 1.5 * IQR))).any(axis=1)]\n",
        "\n",
        "# Reason for not doing: Outlier detection methods like the IQR score or Z-score are not applicable to categorical variables.\n"
      ],
      "metadata": {
        "id": "xHzKSbxjskXm"
      },
      "execution_count": null,
      "outputs": []
    },
    {
      "cell_type": "code",
      "source": [],
      "metadata": {
        "id": "s9FyHL92ssMI"
      },
      "execution_count": null,
      "outputs": []
    },
    {
      "cell_type": "code",
      "source": [
        "\n",
        "# *Feature Scaling*\n",
        "# If your dataset contains features with different scales, you might need to scale them to a standard scale.\n",
        "# Note: Not applicable for this dataset as it has already undergone one-hot encoding, and categorical variables do not require feature scaling.\n",
        "# from sklearn.preprocessing import StandardScaler\n",
        "# scaler = StandardScaler()\n",
        "# df = pd.DataFrame(scaler.fit_transform(df), columns = df.columns)\n",
        "\n",
        "# Reason for not doing: Feature scaling is typically applied to numerical features, but the dataset contains categorical variables that do not require scaling.\n",
        "\n"
      ],
      "metadata": {
        "id": "Fi7JD2CGssPA"
      },
      "execution_count": null,
      "outputs": []
    },
    {
      "cell_type": "code",
      "source": [],
      "metadata": {
        "id": "HeKaCWdfuPu9"
      },
      "execution_count": null,
      "outputs": []
    },
    {
      "cell_type": "code",
      "source": [],
      "metadata": {
        "id": "pLcCx3SpuPxY"
      },
      "execution_count": null,
      "outputs": []
    },
    {
      "cell_type": "code",
      "source": [],
      "metadata": {
        "id": "3_Hq4RZduP0I"
      },
      "execution_count": null,
      "outputs": []
    },
    {
      "cell_type": "markdown",
      "source": [
        "# POSSIBLE TASKS FROM THE DATASET"
      ],
      "metadata": {
        "id": "Y8tWU1l5uRfT"
      }
    },
    {
      "cell_type": "markdown",
      "source": [
        "# analyze article publishing trends over time"
      ],
      "metadata": {
        "id": "HZicyez2uYBE"
      }
    },
    {
      "cell_type": "code",
      "source": [
        "# Visualize article publishing trends over time"
      ],
      "metadata": {
        "id": "yUbtuVjLuP5n"
      },
      "execution_count": null,
      "outputs": []
    },
    {
      "cell_type": "code",
      "source": [
        "df_data['published'] = pd.to_datetime(df_data['published'])\n",
        "df_data['published_month'] = df_data['published'].dt.to_period('M')\n",
        "article_counts = df_data['published_month'].value_counts().sort_index()\n",
        "plt.figure(figsize=(10, 6))\n",
        "article_counts.plot(kind='line')\n",
        "plt.title('Article Publishing Trends Over Time')\n",
        "plt.xlabel('Month')\n",
        "plt.ylabel('Number of Articles Published')\n",
        "plt.grid(True)\n",
        "plt.show()"
      ],
      "metadata": {
        "colab": {
          "base_uri": "https://localhost:8080/",
          "height": 619
        },
        "id": "T3ZzmGkJuP8Y",
        "outputId": "291861a0-cbc2-40f9-b58d-db6d8a63437a"
      },
      "execution_count": null,
      "outputs": [
        {
          "output_type": "stream",
          "name": "stderr",
          "text": [
            "<ipython-input-169-0db599be70c4>:2: UserWarning: Converting to PeriodArray/Index representation will drop timezone information.\n",
            "  df_data['published_month'] = df_data['published'].dt.to_period('M')\n"
          ]
        },
        {
          "output_type": "display_data",
          "data": {
            "text/plain": [
              "<Figure size 1000x600 with 1 Axes>"
            ],
            "image/png": "[encoded data removed]"
          },
          "metadata": {}
        }
      ]
    },
    {
      "cell_type": "code",
      "source": [],
      "metadata": {
        "id": "d4vJnHd9uP-u"
      },
      "execution_count": null,
      "outputs": []
    },
    {
      "cell_type": "code",
      "source": [],
      "metadata": {
        "id": "WKZbWLPCuQAi"
      },
      "execution_count": null,
      "outputs": []
    },
    {
      "cell_type": "markdown",
      "source": [
        "# Analyze article publishing frequency by domain"
      ],
      "metadata": {
        "id": "iy2YveKkuxFF"
      }
    },
    {
      "cell_type": "code",
      "source": [
        "# Analyze article publishing frequency by domain"
      ],
      "metadata": {
        "id": "E7yG8AzMuQD1"
      },
      "execution_count": null,
      "outputs": []
    },
    {
      "cell_type": "code",
      "source": [
        "domain_counts = df_data['domain'].value_counts().head(10)\n",
        "plt.figure(figsize=(10, 6))\n",
        "sns.barplot(x=domain_counts.values, y=domain_counts.index)\n",
        "plt.title('Top 10 Domains by Article Publishing Frequency')\n",
        "plt.xlabel('Number of Articles Published')\n",
        "plt.ylabel('Domain')\n",
        "plt.show()"
      ],
      "metadata": {
        "colab": {
          "base_uri": "https://localhost:8080/",
          "height": 538
        },
        "id": "Q65hacGzuz1G",
        "outputId": "74653cac-c8c5-4d97-fcf2-6b7fd0fa4d60"
      },
      "execution_count": null,
      "outputs": [
        {
          "output_type": "display_data",
          "data": {
            "text/plain": [
              "<Figure size 1000x600 with 1 Axes>"
            ],
            "image/png": "[encoded data removed]"
          },
          "metadata": {}
        }
      ]
    },
    {
      "cell_type": "code",
      "source": [],
      "metadata": {
        "id": "C5sKW28Iu56v"
      },
      "execution_count": null,
      "outputs": []
    },
    {
      "cell_type": "code",
      "source": [],
      "metadata": {
        "id": "B2S4ikQQu59i"
      },
      "execution_count": null,
      "outputs": []
    },
    {
      "cell_type": "markdown",
      "source": [
        "# Explore article URL structure"
      ],
      "metadata": {
        "id": "yJYYoRtru7QX"
      }
    },
    {
      "cell_type": "code",
      "source": [
        "# Explore article URL structure"
      ],
      "metadata": {
        "id": "TguiCOp7u6Az"
      },
      "execution_count": null,
      "outputs": []
    },
    {
      "cell_type": "code",
      "source": [
        "df_data['url_length'] = df_data['url'].apply(lambda x: len(x))\n",
        "plt.figure(figsize=(10, 6))\n",
        "sns.histplot(df_data['url_length'], bins=30)\n",
        "plt.title('Distribution of Article URL Lengths')\n",
        "plt.xlabel('URL Length')\n",
        "plt.ylabel('Frequency')\n",
        "plt.show()"
      ],
      "metadata": {
        "colab": {
          "base_uri": "https://localhost:8080/",
          "height": 564
        },
        "id": "EN9AOlK-u6Dj",
        "outputId": "81e7d66a-60e5-4dfe-b3f5-320bb2a2d068"
      },
      "execution_count": null,
      "outputs": [
        {
          "output_type": "display_data",
          "data": {
            "text/plain": [
              "<Figure size 1000x600 with 1 Axes>"
            ],
            "image/png": "[encoded data removed]"
          },
          "metadata": {}
        }
      ]
    },
    {
      "cell_type": "code",
      "source": [],
      "metadata": {
        "id": "VVZhTWeaNOyk"
      },
      "execution_count": null,
      "outputs": []
    },
    {
      "cell_type": "code",
      "source": [],
      "metadata": {
        "id": "eiWcfQ2wNO_9"
      },
      "execution_count": null,
      "outputs": []
    },
    {
      "cell_type": "code",
      "source": [],
      "metadata": {
        "id": "4mgCT90jNPF8"
      },
      "execution_count": null,
      "outputs": []
    },
    {
      "cell_type": "markdown",
      "source": [
        "# Analyze Publishing Trends by Day of the Week"
      ],
      "metadata": {
        "id": "ApWwWjwEPUXL"
      }
    },
    {
      "cell_type": "code",
      "source": [
        "# Extract day of the week from the 'published' column\n",
        "# The 'published' column contains timestamps indicating the date and time when articles were published.\n",
        "# We use the 'dt' accessor to access datetime properties and extract the day of the week (0 for Monday, 6 for Sunday).\n"
      ],
      "metadata": {
        "id": "QsV8sdLQOeK-"
      },
      "execution_count": null,
      "outputs": []
    },
    {
      "cell_type": "code",
      "source": [
        "df_data['published_dayofweek'] = df_data['published'].dt.dayofweek"
      ],
      "metadata": {
        "id": "STBBxFJtOoTa"
      },
      "execution_count": null,
      "outputs": []
    },
    {
      "cell_type": "code",
      "source": [],
      "metadata": {
        "id": "CaA0whXwOoV6"
      },
      "execution_count": null,
      "outputs": []
    },
    {
      "cell_type": "code",
      "source": [
        "# Calculate the number of articles published on each day of the week\n",
        "# We count the occurrences of each day of the week and sort them in ascending order."
      ],
      "metadata": {
        "id": "aBtW1xRFOoYI"
      },
      "execution_count": null,
      "outputs": []
    },
    {
      "cell_type": "code",
      "source": [
        "article_counts_per_day = df_data['published_dayofweek'].value_counts().sort_index()"
      ],
      "metadata": {
        "id": "7fuU1A1WOoa6"
      },
      "execution_count": null,
      "outputs": []
    },
    {
      "cell_type": "code",
      "source": [],
      "metadata": {
        "id": "Vku9PVqRPufV"
      },
      "execution_count": null,
      "outputs": []
    },
    {
      "cell_type": "code",
      "source": [
        "# Define the names of days of the week\n",
        "# We define a list of strings representing the names of the days of the week for better visualization."
      ],
      "metadata": {
        "id": "-34VdMfOPuh1"
      },
      "execution_count": null,
      "outputs": []
    },
    {
      "cell_type": "code",
      "source": [
        "days_of_week = ['Monday', 'Tuesday', 'Wednesday', 'Thursday', 'Friday', 'Saturday', 'Sunday']"
      ],
      "metadata": {
        "id": "8gVf1aa9PukS"
      },
      "execution_count": null,
      "outputs": []
    },
    {
      "cell_type": "code",
      "source": [],
      "metadata": {
        "id": "zak6kSnqPum6"
      },
      "execution_count": null,
      "outputs": []
    },
    {
      "cell_type": "code",
      "source": [
        "# Visualize publishing trends by day of the week\n",
        "# We create a bar plot to visualize the number of articles published on each day of the week."
      ],
      "metadata": {
        "id": "s1LcIjbXPupx"
      },
      "execution_count": null,
      "outputs": []
    },
    {
      "cell_type": "code",
      "source": [
        "plt.figure(figsize=(10, 6))  # Set the figure size for better visibility\n",
        "article_counts_per_day.plot(kind='bar')  # Plotting the bar chart\n",
        "plt.title('Article Publishing Trends by Day of the Week')  # Setting the title of the plot\n",
        "plt.xlabel('Day of the Week')  # Labeling the x-axis\n",
        "plt.ylabel('Number of Articles Published')  # Labeling the y-axis\n",
        "plt.xticks(article_counts_per_day.index, days_of_week, rotation=45)  # Setting x-axis ticks with day names and rotating them for better readability\n",
        "plt.grid(True)  # Adding grid lines for better visualization\n",
        "plt.show()  # Displaying the plot"
      ],
      "metadata": {
        "colab": {
          "base_uri": "https://localhost:8080/",
          "height": 617
        },
        "id": "x0odTRjoP3ZJ",
        "outputId": "57823b53-4b8b-429b-9583-a6711dcfccb5"
      },
      "execution_count": null,
      "outputs": [
        {
          "output_type": "display_data",
          "data": {
            "text/plain": [
              "<Figure size 1000x600 with 1 Axes>"
            ],
            "image/png": "[encoded data removed]"
          },
          "metadata": {}
        }
      ]
    },
    {
      "cell_type": "code",
      "source": [],
      "metadata": {
        "id": "gG-V8WP4P6FY"
      },
      "execution_count": null,
      "outputs": []
    },
    {
      "cell_type": "code",
      "source": [],
      "metadata": {
        "id": "mYILKXp3P6If"
      },
      "execution_count": null,
      "outputs": []
    },
    {
      "cell_type": "code",
      "source": [],
      "metadata": {
        "id": "qu2wIrsQP6LO"
      },
      "execution_count": null,
      "outputs": []
    },
    {
      "cell_type": "markdown",
      "source": [
        "# Explore URL Patterns\n",
        "\n",
        "---\n",
        "\n"
      ],
      "metadata": {
        "id": "NKbjLq7wQE-V"
      }
    },
    {
      "cell_type": "code",
      "source": [
        "# Print a sample of URLs to observe their structure\n",
        "# In this code snippet, we aim to inspect the structure of the URLs present in the dataset.\n",
        "# By printing out a sample of URLs, we can observe common patterns or variations in their structure, which may provide insights into the source or format of the articles.\n"
      ],
      "metadata": {
        "id": "WdGwcSp4P6OK"
      },
      "execution_count": null,
      "outputs": []
    },
    {
      "cell_type": "code",
      "source": [
        "# We begin by selecting a sample of URLs from the 'url' column of the DataFrame using the 'sample' method.\n",
        "# The 'sample' method randomly selects rows from the DataFrame, and we specify a sample size of 10 URLs."
      ],
      "metadata": {
        "id": "ZkvAlzgRP6Q-"
      },
      "execution_count": null,
      "outputs": []
    },
    {
      "cell_type": "code",
      "source": [
        "sample_urls = df_data['url'].sample(10)  # Adjust the sample size as needed"
      ],
      "metadata": {
        "id": "fR7uwPpNP6tw"
      },
      "execution_count": null,
      "outputs": []
    },
    {
      "cell_type": "code",
      "source": [],
      "metadata": {
        "id": "a_ybz-9FQTAH"
      },
      "execution_count": null,
      "outputs": []
    },
    {
      "cell_type": "code",
      "source": [
        "\n",
        "# Next, we iterate over each URL in the sample using a for loop.\n",
        "# For each URL, we print it to the console to observe its structure."
      ],
      "metadata": {
        "id": "npoD62S4QTC6"
      },
      "execution_count": null,
      "outputs": []
    },
    {
      "cell_type": "code",
      "source": [
        "for url in sample_urls:\n",
        "    print(url)"
      ],
      "metadata": {
        "colab": {
          "base_uri": "https://localhost:8080/"
        },
        "id": "43bfTmTnQWfj",
        "outputId": "49ebab3b-a44a-4d43-ead6-6bac85764150"
      },
      "execution_count": null,
      "outputs": [
        {
          "output_type": "stream",
          "name": "stdout",
          "text": [
            "https://medium.com/@AmnestyUK/the-cost-of-free-speech-in-saudi-arabia-28828030ce8\n",
            "https://medium.com/ueno/thank-you-dribbble-add8992a74dd\n",
            "https://medium.com/@fmontelara/eva-marin-de-puentefinanciero-net-ep-35-potencial-millonario-ca6b14d2764f\n",
            "http://dynastyfootballfactory.com/adp-overrated-underrated-adequately/\n",
            "https://medium.com/@EricSchillerDev/i-have-a-bachelors-in-cs-and-have-been-developing-for-17-years-32e6d3b561cb\n",
            "https://medium.com/unthinkable-creativity/the-immensity-of-your-work-12984a6381c3\n",
            "https://medium.com/@tomparadis/we-practiced-then-we-preached-9793e22548c5\n",
            "https://medium.com/@radka.k.dnmx/the-most-favourite-video-game-console-62120ffe5573\n",
            "https://medium.com/may-i-write/half-way-and-a-look-back-70f609a54464\n",
            "https://medium.com/@russellquinn/the-pickle-a-conversation-about-making-digital-books-325409cce3c3\n"
          ]
        }
      ]
    },
    {
      "cell_type": "code",
      "source": [],
      "metadata": {
        "id": "KXrc-acZQa7r"
      },
      "execution_count": null,
      "outputs": []
    },
    {
      "cell_type": "code",
      "source": [],
      "metadata": {
        "id": "wp-E4vFsQuJQ"
      },
      "execution_count": null,
      "outputs": []
    },
    {
      "cell_type": "code",
      "source": [
        "# Define the file path for the new file"
      ],
      "metadata": {
        "id": "mcHX1YG9QbL4"
      },
      "execution_count": null,
      "outputs": []
    },
    {
      "cell_type": "code",
      "source": [
        "output_file = \"sample_urls.txt\""
      ],
      "metadata": {
        "id": "Yvh-vZ2bQbOu"
      },
      "execution_count": null,
      "outputs": []
    },
    {
      "cell_type": "code",
      "source": [],
      "metadata": {
        "id": "hScMpC-lQbRl"
      },
      "execution_count": null,
      "outputs": []
    },
    {
      "cell_type": "code",
      "source": [
        "# Open the file in write mode"
      ],
      "metadata": {
        "id": "WEAmrDo4QWiE"
      },
      "execution_count": null,
      "outputs": []
    },
    {
      "cell_type": "code",
      "source": [
        "with open(output_file, \"w\") as file:\n",
        "      # Iterate over each URL in the sample\n",
        "    for url in sample_urls:\n",
        "        # Write each URL to the file\n",
        "        file.write(url + \"\\n\")\n"
      ],
      "metadata": {
        "id": "Tp8VyYb9QWkV"
      },
      "execution_count": null,
      "outputs": []
    },
    {
      "cell_type": "code",
      "source": [],
      "metadata": {
        "id": "2luTqAztQ1eB"
      },
      "execution_count": null,
      "outputs": []
    },
    {
      "cell_type": "code",
      "source": [
        "print(f\"Sample URLs saved to {output_file}\")"
      ],
      "metadata": {
        "colab": {
          "base_uri": "https://localhost:8080/"
        },
        "id": "cOCQsom_Q1gr",
        "outputId": "a9024405-2219-4950-a5ee-aecb2af82fa7"
      },
      "execution_count": null,
      "outputs": [
        {
          "output_type": "stream",
          "name": "stdout",
          "text": [
            "Sample URLs saved to sample_urls.txt\n"
          ]
        }
      ]
    },
    {
      "cell_type": "code",
      "source": [],
      "metadata": {
        "id": "QV-3QCW_Q1jS"
      },
      "execution_count": null,
      "outputs": []
    },
    {
      "cell_type": "code",
      "source": [],
      "metadata": {
        "id": "RgMJcq0rQ1lh"
      },
      "execution_count": null,
      "outputs": []
    },
    {
      "cell_type": "markdown",
      "source": [
        "# Analyzing the Distribution of Views"
      ],
      "metadata": {
        "id": "hpLdRjyvSpdo"
      }
    },
    {
      "cell_type": "code",
      "source": [
        "\n",
        "# Generate random views data for demonstration"
      ],
      "metadata": {
        "id": "EGW3x1boQ1og"
      },
      "execution_count": null,
      "outputs": []
    },
    {
      "cell_type": "code",
      "source": [
        "np.random.seed(0)  # Set the seed for reproducibility"
      ],
      "metadata": {
        "id": "Bz0RQfaTQ1qT"
      },
      "execution_count": null,
      "outputs": []
    },
    {
      "cell_type": "code",
      "source": [
        "df_data['views'] = np.random.randint(100, 10000, size=len(df_data))"
      ],
      "metadata": {
        "id": "CRtZZZJoQWpj"
      },
      "execution_count": null,
      "outputs": []
    },
    {
      "cell_type": "code",
      "source": [],
      "metadata": {
        "id": "d4L6vFN1TTry"
      },
      "execution_count": null,
      "outputs": []
    },
    {
      "cell_type": "code",
      "source": [
        "# Analyze the distribution of views"
      ],
      "metadata": {
        "id": "2ONSIts3TTuu"
      },
      "execution_count": null,
      "outputs": []
    },
    {
      "cell_type": "code",
      "source": [
        "plt.figure(figsize=(10, 6))  # Create a new figure with specified size\n",
        "sns.histplot(df_data['views'], bins=30)  # Plot the histogram of views data\n",
        "plt.title('Distribution of Views')  # Set the title of the plot\n",
        "plt.xlabel('Views')  # Set the label for the x-axis\n",
        "plt.ylabel('Frequency')  # Set the label for the y-axis\n",
        "plt.grid(True)  # Enable grid lines on the plot\n",
        "plt.show()  # Display the plot"
      ],
      "metadata": {
        "colab": {
          "base_uri": "https://localhost:8080/",
          "height": 564
        },
        "id": "Qn8pBHpPTTxu",
        "outputId": "35826fac-069e-46ec-d201-d0d55064b9ce"
      },
      "execution_count": null,
      "outputs": [
        {
          "output_type": "display_data",
          "data": {
            "text/plain": [
              "<Figure size 1000x600 with 1 Axes>"
            ],
            "image/png": "[encoded data removed]"
          },
          "metadata": {}
        }
      ]
    },
    {
      "cell_type": "code",
      "source": [],
      "metadata": {
        "id": "wJzydmWpTihz"
      },
      "execution_count": null,
      "outputs": []
    },
    {
      "cell_type": "code",
      "source": [],
      "metadata": {
        "id": "O0udr3eWTivH"
      },
      "execution_count": null,
      "outputs": []
    },
    {
      "cell_type": "code",
      "source": [
        "# Define the file path for saving the code"
      ],
      "metadata": {
        "id": "Vm_NR6dBTjVD"
      },
      "execution_count": null,
      "outputs": []
    },
    {
      "cell_type": "code",
      "source": [
        "file_path = \"analyze_views_distribution.py\""
      ],
      "metadata": {
        "id": "8Li1rnhzTj43"
      },
      "execution_count": null,
      "outputs": []
    },
    {
      "cell_type": "code",
      "source": [],
      "metadata": {
        "id": "IHGG2BeyTokn"
      },
      "execution_count": null,
      "outputs": []
    },
    {
      "cell_type": "code",
      "source": [
        "# Write the code to the file"
      ],
      "metadata": {
        "id": "-fRDlNg9Toya"
      },
      "execution_count": null,
      "outputs": []
    },
    {
      "cell_type": "code",
      "source": [
        "with open(file_path, \"w\") as file:\n",
        "    file.write(\"\"\"\n",
        "import numpy as np\n",
        "import matplotlib.pyplot as plt\n",
        "import seaborn as sns\n",
        "\n",
        "# Generate random views data for demonstration\n",
        "np.random.seed(0)  # Set the seed for reproducibility\n",
        "df_data['views'] = np.random.randint(100, 10000, size=len(df_data))\n",
        "\n",
        "# Analyze the distribution of views\n",
        "plt.figure(figsize=(10, 6))  # Create a new figure with specified size\n",
        "sns.histplot(df_data['views'], bins=30)  # Plot the histogram of views data\n",
        "plt.title('Distribution of Views')  # Set the title of the plot\n",
        "plt.xlabel('Views')  # Set the label for the x-axis\n",
        "plt.ylabel('Frequency')  # Set the label for the y-axis\n",
        "plt.grid(True)  # Enable grid lines on the plot\n",
        "plt.show()  # Display the plot\n",
        "\"\"\")"
      ],
      "metadata": {
        "id": "RcyH0fY0RtFR"
      },
      "execution_count": null,
      "outputs": []
    },
    {
      "cell_type": "code",
      "source": [],
      "metadata": {
        "id": "TBigBnbZUSFs"
      },
      "execution_count": null,
      "outputs": []
    },
    {
      "cell_type": "code",
      "source": [
        "print(f\"The code has been saved to '{file_path}'.\")"
      ],
      "metadata": {
        "colab": {
          "base_uri": "https://localhost:8080/"
        },
        "id": "LrFbcczaT45S",
        "outputId": "29f2c842-d9ab-4a1e-9756-ab64bc132fde"
      },
      "execution_count": null,
      "outputs": [
        {
          "output_type": "stream",
          "name": "stdout",
          "text": [
            "The code has been saved to 'analyze_views_distribution.py'.\n"
          ]
        }
      ]
    },
    {
      "cell_type": "code",
      "source": [],
      "metadata": {
        "id": "1dEwYAkZTvRC"
      },
      "execution_count": null,
      "outputs": []
    },
    {
      "cell_type": "code",
      "source": [],
      "metadata": {
        "id": "oqR8ZyJ4xG6r"
      },
      "execution_count": null,
      "outputs": []
    },
    {
      "cell_type": "markdown",
      "source": [
        "# Sentiment Analysis"
      ],
      "metadata": {
        "id": "iMihddYjzGHi"
      }
    },
    {
      "cell_type": "code",
      "source": [
        "# Import the TextBlob module for sentiment analysis"
      ],
      "metadata": {
        "id": "-gwFwBUayLEr"
      },
      "execution_count": null,
      "outputs": []
    },
    {
      "cell_type": "code",
      "source": [
        "from textblob import TextBlob"
      ],
      "metadata": {
        "id": "MdmT_oHexHAy"
      },
      "execution_count": null,
      "outputs": []
    },
    {
      "cell_type": "code",
      "source": [],
      "metadata": {
        "id": "Xn_foiU7xHGn"
      },
      "execution_count": null,
      "outputs": []
    },
    {
      "cell_type": "code",
      "source": [
        "# Perform sentiment analysis on the 'domain' column\n",
        "# TextBlob allows us to analyze the sentiment of textual data by assigning polarity scores\n",
        "# We're assuming that the 'domain' column contains the textual content for each article\n",
        "# We convert each text entry to a TextBlob object and calculate its sentiment polarity"
      ],
      "metadata": {
        "id": "ZACss7b_xHIz"
      },
      "execution_count": null,
      "outputs": []
    },
    {
      "cell_type": "code",
      "source": [
        "df_data['sentiment'] = df_data['domain'].apply(lambda x: TextBlob(str(x)).sentiment.polarity)"
      ],
      "metadata": {
        "id": "HM04jfeBxHM5"
      },
      "execution_count": null,
      "outputs": []
    },
    {
      "cell_type": "code",
      "source": [],
      "metadata": {
        "id": "f3K6bhJ3zYmn"
      },
      "execution_count": null,
      "outputs": []
    },
    {
      "cell_type": "code",
      "source": [
        "\n",
        "# Display the average sentiment across all articles"
      ],
      "metadata": {
        "id": "SgnYE5FTzYpi"
      },
      "execution_count": null,
      "outputs": []
    },
    {
      "cell_type": "code",
      "source": [
        "print(\"Average Sentiment:\", df_data['sentiment'].mean())"
      ],
      "metadata": {
        "colab": {
          "base_uri": "https://localhost:8080/"
        },
        "id": "5pFg6nt5zYsP",
        "outputId": "69b46976-4558-4a45-be69-23d579bf039d"
      },
      "execution_count": null,
      "outputs": [
        {
          "output_type": "stream",
          "name": "stdout",
          "text": [
            "Average Sentiment: 0.0\n"
          ]
        }
      ]
    },
    {
      "cell_type": "code",
      "source": [],
      "metadata": {
        "id": "bQ56uR5tzkKA"
      },
      "execution_count": null,
      "outputs": []
    },
    {
      "cell_type": "code",
      "source": [],
      "metadata": {
        "id": "Zur5RhIszkMu"
      },
      "execution_count": null,
      "outputs": []
    },
    {
      "cell_type": "markdown",
      "source": [
        "# Keyword Extraction"
      ],
      "metadata": {
        "id": "_zKwtUHazvup"
      }
    },
    {
      "cell_type": "code",
      "source": [
        "# Import the TF-IDF Vectorizer from scikit-learn"
      ],
      "metadata": {
        "id": "YtIGTlMTzkPs"
      },
      "execution_count": null,
      "outputs": []
    },
    {
      "cell_type": "code",
      "source": [
        "from sklearn.feature_extraction.text import TfidfVectorizer"
      ],
      "metadata": {
        "id": "tx35qtfozkSW"
      },
      "execution_count": null,
      "outputs": []
    },
    {
      "cell_type": "code",
      "source": [],
      "metadata": {
        "id": "RvUz4P6F0E0O"
      },
      "execution_count": null,
      "outputs": []
    },
    {
      "cell_type": "code",
      "source": [
        "# Initialize the TF-IDF Vectorizer with English stop words\n",
        "# The TF-IDF Vectorizer is used to convert textual data into numerical representations\n",
        "# We're assuming that the 'url' column contains the textual content for each article"
      ],
      "metadata": {
        "id": "1yUgz9Rq0E2o"
      },
      "execution_count": null,
      "outputs": []
    },
    {
      "cell_type": "code",
      "source": [
        "tfidf_vectorizer = TfidfVectorizer(stop_words='english')"
      ],
      "metadata": {
        "id": "Sxo7lCKe0E5i"
      },
      "execution_count": null,
      "outputs": []
    },
    {
      "cell_type": "code",
      "source": [],
      "metadata": {
        "id": "uiCbVfWO0E8I"
      },
      "execution_count": null,
      "outputs": []
    },
    {
      "cell_type": "code",
      "source": [
        "# Transform the textual data into TF-IDF matrix representation"
      ],
      "metadata": {
        "id": "OnTU6vNpzYuy"
      },
      "execution_count": null,
      "outputs": []
    },
    {
      "cell_type": "code",
      "source": [
        "tfidf_matrix = tfidf_vectorizer.fit_transform(df_data['url'])"
      ],
      "metadata": {
        "id": "L_TplUJszYxt"
      },
      "execution_count": null,
      "outputs": []
    },
    {
      "cell_type": "code",
      "source": [],
      "metadata": {
        "id": "z_tQk5k6zY0W"
      },
      "execution_count": null,
      "outputs": []
    },
    {
      "cell_type": "code",
      "source": [
        "\n",
        "# Get the feature names (words) from the TF-IDF Vectorizer"
      ],
      "metadata": {
        "id": "y23PV51u0QNT"
      },
      "execution_count": null,
      "outputs": []
    },
    {
      "cell_type": "code",
      "source": [
        "feature_names = tfidf_vectorizer.get_feature_names_out()"
      ],
      "metadata": {
        "id": "nNRp37Bn0QQO"
      },
      "execution_count": null,
      "outputs": []
    },
    {
      "cell_type": "code",
      "source": [],
      "metadata": {
        "id": "t-kqMr230cdn"
      },
      "execution_count": null,
      "outputs": []
    },
    {
      "cell_type": "code",
      "source": [
        "# Find the top keywords for each document (article)"
      ],
      "metadata": {
        "id": "E2_5UkQe0cge"
      },
      "execution_count": null,
      "outputs": []
    },
    {
      "cell_type": "code",
      "source": [
        "num_keywords = 5"
      ],
      "metadata": {
        "id": "pPaYG67F0cjG"
      },
      "execution_count": null,
      "outputs": []
    },
    {
      "cell_type": "code",
      "source": [
        "top_keywords_per_doc = {}"
      ],
      "metadata": {
        "id": "yaCE7yCl0clz"
      },
      "execution_count": null,
      "outputs": []
    },
    {
      "cell_type": "code",
      "source": [],
      "metadata": {
        "id": "ej9MC5OU0coh"
      },
      "execution_count": null,
      "outputs": []
    },
    {
      "cell_type": "code",
      "source": [
        "# Iterate over each document (row) in the TF-IDF matrix"
      ],
      "metadata": {
        "id": "jSAagN4h0crH"
      },
      "execution_count": null,
      "outputs": []
    },
    {
      "cell_type": "code",
      "source": [
        "for i, row in enumerate(tfidf_matrix):\n",
        "\n",
        "    # Find the indices of the top TF-IDF scores and retrieve corresponding feature names\n",
        "    # TF-IDF represents the importance of a word in a document relative to a corpus\n",
        "    doc_keywords = [feature_names[idx] for idx in row.indices[np.argsort(row.data)[-num_keywords:]]]\n",
        "    # Store the top keywords for the current document\n",
        "\n",
        "    top_keywords_per_doc[i] = doc_keywords\n"
      ],
      "metadata": {
        "id": "DiLlqLEs0ctz"
      },
      "execution_count": null,
      "outputs": []
    },
    {
      "cell_type": "code",
      "source": [],
      "metadata": {
        "id": "CygO0sPM0tbV"
      },
      "execution_count": null,
      "outputs": []
    },
    {
      "cell_type": "code",
      "source": [
        "# Print the top keywords for the first document as an example"
      ],
      "metadata": {
        "id": "Iqw5_4V-0teM"
      },
      "execution_count": null,
      "outputs": []
    },
    {
      "cell_type": "code",
      "source": [
        "print(\"Top Keywords for the First Document:\")"
      ],
      "metadata": {
        "colab": {
          "base_uri": "https://localhost:8080/"
        },
        "id": "kr4gF0Em0thD",
        "outputId": "ac0ea7cb-fdd4-4980-ccd8-116b8919d37f"
      },
      "execution_count": null,
      "outputs": [
        {
          "output_type": "stream",
          "name": "stdout",
          "text": [
            "Top Keywords for the First Document:\n"
          ]
        }
      ]
    },
    {
      "cell_type": "code",
      "source": [
        "print(top_keywords_per_doc[0])"
      ],
      "metadata": {
        "colab": {
          "base_uri": "https://localhost:8080/"
        },
        "id": "Aqadd2qO0tkE",
        "outputId": "76de08b2-64af-4104-baf0-b9abfd37c1b1"
      },
      "execution_count": null,
      "outputs": [
        {
          "output_type": "stream",
          "name": "stdout",
          "text": [
            "['medium', 'service', 'policy', 'terms', '9db0094a1e0f']\n"
          ]
        }
      ]
    },
    {
      "cell_type": "code",
      "source": [],
      "metadata": {
        "id": "cGPGQ_LG0tm9"
      },
      "execution_count": null,
      "outputs": []
    },
    {
      "cell_type": "code",
      "source": [],
      "metadata": {
        "id": "lwp8QzV60QS6"
      },
      "execution_count": null,
      "outputs": []
    },
    {
      "cell_type": "markdown",
      "source": [
        "# Named Entity Recognition (NER)"
      ],
      "metadata": {
        "id": "-kILrXqh3Cyo"
      }
    },
    {
      "cell_type": "code",
      "source": [
        "# Description: Use Named Entity Recognition (NER) techniques to identify and extract entities such as people, organizations, and locations mentioned in the articles.\n"
      ],
      "metadata": {
        "id": "2XA5zHcT30D7"
      },
      "execution_count": null,
      "outputs": []
    },
    {
      "cell_type": "code",
      "source": [
        "# Import the spaCy library for Named Entity Recognition (NER)"
      ],
      "metadata": {
        "id": "dW2KAt1U03EQ"
      },
      "execution_count": null,
      "outputs": []
    },
    {
      "cell_type": "code",
      "source": [
        "import spacy"
      ],
      "metadata": {
        "id": "XkdneRjE03HI"
      },
      "execution_count": null,
      "outputs": []
    },
    {
      "cell_type": "code",
      "source": [],
      "metadata": {
        "id": "vcd-hKrm03Jr"
      },
      "execution_count": null,
      "outputs": []
    },
    {
      "cell_type": "code",
      "source": [
        "# Load the English language model for spaCy\n",
        "# This step loads the pre-trained English language model provided by spaCy, which is trained on a large corpus of text data.\n"
      ],
      "metadata": {
        "id": "izHsvu-403MV"
      },
      "execution_count": null,
      "outputs": []
    },
    {
      "cell_type": "code",
      "source": [
        "nlp = spacy.load('en_core_web_sm')"
      ],
      "metadata": {
        "id": "L8IpP0Gi1sRP"
      },
      "execution_count": null,
      "outputs": []
    },
    {
      "cell_type": "code",
      "source": [],
      "metadata": {
        "id": "PwEdn79I3PZq"
      },
      "execution_count": null,
      "outputs": []
    },
    {
      "cell_type": "code",
      "source": [
        "# Function to perform Named Entity Recognition (NER) on a given text\n",
        "# This function takes a text input, processes it using the spaCy NLP pipeline, and extracts named entities along with their entity labels.\n"
      ],
      "metadata": {
        "id": "gtCKhvIl3PcS"
      },
      "execution_count": null,
      "outputs": []
    },
    {
      "cell_type": "code",
      "source": [
        "def perform_ner(text):\n",
        "    doc = nlp(text)  # Process the text using the spaCy NLP pipeline\n",
        "    entities = [(ent.text, ent.label_) for ent in doc.ents]  # Extract named entities and their labels\n",
        "    return entities  # Return the extracted entities as a list of tuples (entity text, entity label)"
      ],
      "metadata": {
        "id": "VkOh0wDe1sf0"
      },
      "execution_count": null,
      "outputs": []
    },
    {
      "cell_type": "code",
      "source": [],
      "metadata": {
        "id": "r4k9iTfW3VAq"
      },
      "execution_count": null,
      "outputs": []
    },
    {
      "cell_type": "code",
      "source": [
        "# Example usage"
      ],
      "metadata": {
        "id": "0tPaKlw13VDm"
      },
      "execution_count": null,
      "outputs": []
    },
    {
      "cell_type": "code",
      "source": [
        "text = \"Apple Inc. is an American multinational technology company headquartered in Cupertino, California.\""
      ],
      "metadata": {
        "id": "OqrFo6J33YWb"
      },
      "execution_count": null,
      "outputs": []
    },
    {
      "cell_type": "code",
      "source": [
        "entities = perform_ner(text)  # Call the perform_ner function with the example text"
      ],
      "metadata": {
        "id": "wc-HGnbX3YZH"
      },
      "execution_count": null,
      "outputs": []
    },
    {
      "cell_type": "code",
      "source": [
        "print(\"Entities:\", entities)  # Print the extracted entities and their labels"
      ],
      "metadata": {
        "colab": {
          "base_uri": "https://localhost:8080/"
        },
        "id": "yqDcGtIP3Ybt",
        "outputId": "71b89201-96c7-4b28-c16d-25af380ec7fd"
      },
      "execution_count": null,
      "outputs": [
        {
          "output_type": "stream",
          "name": "stdout",
          "text": [
            "Entities: [('Apple Inc.', 'ORG'), ('American', 'NORP'), ('Cupertino', 'GPE'), ('California', 'GPE')]\n"
          ]
        }
      ]
    },
    {
      "cell_type": "code",
      "source": [],
      "metadata": {
        "id": "gos-PG_63Yii"
      },
      "execution_count": null,
      "outputs": []
    },
    {
      "cell_type": "code",
      "source": [],
      "metadata": {
        "id": "kqXb4rzZ3gG5"
      },
      "execution_count": null,
      "outputs": []
    },
    {
      "cell_type": "markdown",
      "source": [
        "# Text Classification"
      ],
      "metadata": {
        "id": "jNLlrdAr3mqD"
      }
    },
    {
      "cell_type": "code",
      "source": [
        "#Description: Train a machine learning model to classify articles into different categories based on their content or domain.\n"
      ],
      "metadata": {
        "id": "TBnoMvi-3gJx"
      },
      "execution_count": null,
      "outputs": []
    },
    {
      "cell_type": "code",
      "source": [
        "# Import necessary libraries for text classification"
      ],
      "metadata": {
        "id": "iCoeFCwk3gMd"
      },
      "execution_count": null,
      "outputs": []
    },
    {
      "cell_type": "code",
      "source": [
        "from sklearn.model_selection import train_test_split  # For splitting the data into training and testing sets"
      ],
      "metadata": {
        "id": "wqUqX_oZ3gPM"
      },
      "execution_count": null,
      "outputs": []
    },
    {
      "cell_type": "code",
      "source": [
        "from sklearn.feature_extraction.text import TfidfVectorizer  # For converting text data into TF-IDF (Term Frequency-Inverse Document Frequency) representation\n"
      ],
      "metadata": {
        "id": "ipniw5SJ3gRr"
      },
      "execution_count": null,
      "outputs": []
    },
    {
      "cell_type": "code",
      "source": [
        "from sklearn.svm import SVC  # For training a Support Vector Machine (SVM) classifier"
      ],
      "metadata": {
        "id": "28xV-1Qv3gT8"
      },
      "execution_count": null,
      "outputs": []
    },
    {
      "cell_type": "code",
      "source": [
        "from sklearn.metrics import accuracy_score  # For evaluating the accuracy of the classifier"
      ],
      "metadata": {
        "id": "cOcVAvb43gWI"
      },
      "execution_count": null,
      "outputs": []
    },
    {
      "cell_type": "code",
      "source": [],
      "metadata": {
        "id": "qDTL6w9g4Env"
      },
      "execution_count": null,
      "outputs": []
    },
    {
      "cell_type": "code",
      "source": [
        "# Split the data into training and testing sets\n",
        "# This step divides the dataset into two subsets: one for training the model and another for testing its performance."
      ],
      "metadata": {
        "id": "M1PEKmMX4Eql"
      },
      "execution_count": null,
      "outputs": []
    },
    {
      "cell_type": "code",
      "source": [
        "X_train, X_test, y_train, y_test = train_test_split(df_data['url'], df_data['domain'], test_size=0.2, random_state=42)\n"
      ],
      "metadata": {
        "id": "AuIMBl044Es-"
      },
      "execution_count": null,
      "outputs": []
    },
    {
      "cell_type": "code",
      "source": [],
      "metadata": {
        "id": "Zx6-RsGN4EvQ"
      },
      "execution_count": null,
      "outputs": []
    },
    {
      "cell_type": "code",
      "source": [
        "# Initialize the TF-IDF Vectorizer\n",
        "# TF-IDF Vectorizer is used to convert textual data into a numerical representation that can be used for machine learning algorithms.\n"
      ],
      "metadata": {
        "id": "qjqNdAbl4Exq"
      },
      "execution_count": null,
      "outputs": []
    },
    {
      "cell_type": "code",
      "source": [
        "tfidf_vectorizer = TfidfVectorizer(stop_words='english')"
      ],
      "metadata": {
        "id": "P6ASCLxO4Ez7"
      },
      "execution_count": null,
      "outputs": []
    },
    {
      "cell_type": "code",
      "source": [],
      "metadata": {
        "id": "mPbDP-vg4QL-"
      },
      "execution_count": null,
      "outputs": []
    },
    {
      "cell_type": "code",
      "source": [
        "# Transform the training and testing data into TF-IDF matrix\n",
        "# This step converts the textual data into a TF-IDF matrix, where each row represents a document and each column represents a unique word in the corpus.\n"
      ],
      "metadata": {
        "id": "OjvBg2Ne4QPp"
      },
      "execution_count": null,
      "outputs": []
    },
    {
      "cell_type": "code",
      "source": [
        "X_train_tfidf = tfidf_vectorizer.fit_transform(X_train)  # Fit and transform the training data"
      ],
      "metadata": {
        "id": "LKsSq0i84QTX"
      },
      "execution_count": null,
      "outputs": []
    },
    {
      "cell_type": "code",
      "source": [
        "X_test_tfidf = tfidf_vectorizer.transform(X_test)  # Transform the testing data using the fitted TF-IDF Vectorizer"
      ],
      "metadata": {
        "id": "R7QBVtLb4E2z"
      },
      "execution_count": null,
      "outputs": []
    },
    {
      "cell_type": "code",
      "source": [],
      "metadata": {
        "id": "Z0g1R_v-3gY8"
      },
      "execution_count": null,
      "outputs": []
    },
    {
      "cell_type": "code",
      "source": [
        "\n",
        "# Initialize and train a Support Vector Machine (SVM) classifier\n",
        "# SVM is a supervised learning algorithm used for classification tasks."
      ],
      "metadata": {
        "id": "JlfjB04-3VTf"
      },
      "execution_count": null,
      "outputs": []
    },
    {
      "cell_type": "code",
      "source": [
        "svm_classifier = SVC(kernel='linear', random_state=42)  # Initialize SVM classifier with a linear kernel"
      ],
      "metadata": {
        "id": "k1s9FHIZ5Byb"
      },
      "execution_count": null,
      "outputs": []
    },
    {
      "cell_type": "code",
      "source": [
        "svm_classifier.fit(X_train_tfidf, y_train)  # Train the SVM classifier on the training data"
      ],
      "metadata": {
        "colab": {
          "base_uri": "https://localhost:8080/",
          "height": 75
        },
        "id": "3EGq9dNA5B1P",
        "outputId": "2607eb6f-4d31-4631-d21a-0f51e2f74b83"
      },
      "execution_count": null,
      "outputs": [
        {
          "output_type": "execute_result",
          "data": {
            "text/plain": [
              "SVC(kernel='linear', random_state=42)"
            ],
            "text/html": [
              "<style>#sk-container-id-1 {color: black;background-color: white;}#sk-container-id-1 pre{padding: 0;}#sk-container-id-1 div.sk-toggleable {background-color: white;}#sk-container-id-1 label.sk-toggleable__label {cursor: pointer;display: block;width: 100%;margin-bottom: 0;padding: 0.3em;box-sizing: border-box;text-align: center;}#sk-container-id-1 label.sk-toggleable__label-arrow:before {content: \"▸\";float: left;margin-right: 0.25em;color: #696969;}#sk-container-id-1 label.sk-toggleable__label-arrow:hover:before {color: black;}#sk-container-id-1 div.sk-estimator:hover label.sk-toggleable__label-arrow:before {color: black;}#sk-container-id-1 div.sk-toggleable__content {max-height: 0;max-width: 0;overflow: hidden;text-align: left;background-color: #f0f8ff;}#sk-container-id-1 div.sk-toggleable__content pre {margin: 0.2em;color: black;border-radius: 0.25em;background-color: #f0f8ff;}#sk-container-id-1 input.sk-toggleable__control:checked~div.sk-toggleable__content {max-height: 200px;max-width: 100%;overflow: auto;}#sk-container-id-1 input.sk-toggleable__control:checked~label.sk-toggleable__label-arrow:before {content: \"▾\";}#sk-container-id-1 div.sk-estimator input.sk-toggleable__control:checked~label.sk-toggleable__label {background-color: #d4ebff;}#sk-container-id-1 div.sk-label input.sk-toggleable__control:checked~label.sk-toggleable__label {background-color: #d4ebff;}#sk-container-id-1 input.sk-hidden--visually {border: 0;clip: rect(1px 1px 1px 1px);clip: rect(1px, 1px, 1px, 1px);height: 1px;margin: -1px;overflow: hidden;padding: 0;position: absolute;width: 1px;}#sk-container-id-1 div.sk-estimator {font-family: monospace;background-color: #f0f8ff;border: 1px dotted black;border-radius: 0.25em;box-sizing: border-box;margin-bottom: 0.5em;}#sk-container-id-1 div.sk-estimator:hover {background-color: #d4ebff;}#sk-container-id-1 div.sk-parallel-item::after {content: \"\";width: 100%;border-bottom: 1px solid gray;flex-grow: 1;}#sk-container-id-1 div.sk-label:hover label.sk-toggleable__label {background-color: #d4ebff;}#sk-container-id-1 div.sk-serial::before {content: \"\";position: absolute;border-left: 1px solid gray;box-sizing: border-box;top: 0;bottom: 0;left: 50%;z-index: 0;}#sk-container-id-1 div.sk-serial {display: flex;flex-direction: column;align-items: center;background-color: white;padding-right: 0.2em;padding-left: 0.2em;position: relative;}#sk-container-id-1 div.sk-item {position: relative;z-index: 1;}#sk-container-id-1 div.sk-parallel {display: flex;align-items: stretch;justify-content: center;background-color: white;position: relative;}#sk-container-id-1 div.sk-item::before, #sk-container-id-1 div.sk-parallel-item::before {content: \"\";position: absolute;border-left: 1px solid gray;box-sizing: border-box;top: 0;bottom: 0;left: 50%;z-index: -1;}#sk-container-id-1 div.sk-parallel-item {display: flex;flex-direction: column;z-index: 1;position: relative;background-color: white;}#sk-container-id-1 div.sk-parallel-item:first-child::after {align-self: flex-end;width: 50%;}#sk-container-id-1 div.sk-parallel-item:last-child::after {align-self: flex-start;width: 50%;}#sk-container-id-1 div.sk-parallel-item:only-child::after {width: 0;}#sk-container-id-1 div.sk-dashed-wrapped {border: 1px dashed gray;margin: 0 0.4em 0.5em 0.4em;box-sizing: border-box;padding-bottom: 0.4em;background-color: white;}#sk-container-id-1 div.sk-label label {font-family: monospace;font-weight: bold;display: inline-block;line-height: 1.2em;}#sk-container-id-1 div.sk-label-container {text-align: center;}#sk-container-id-1 div.sk-container {/* jupyter's `normalize.less` sets `[hidden] { display: none; }` but bootstrap.min.css set `[hidden] { display: none !important; }` so we also need the `!important` here to be able to override the default hidden behavior on the sphinx rendered scikit-learn.org. See: https://github.com/scikit-learn/scikit-learn/issues/21755 */display: inline-block !important;position: relative;}#sk-container-id-1 div.sk-text-repr-fallback {display: none;}</style><div id=\"sk-container-id-1\" class=\"sk-top-container\"><div class=\"sk-text-repr-fallback\"><pre>SVC(kernel=&#x27;linear&#x27;, random_state=42)</pre><b>In a Jupyter environment, please rerun this cell to show the HTML representation or trust the notebook. <br />On GitHub, the HTML representation is unable to render, please try loading this page with nbviewer.org.</b></div><div class=\"sk-container\" hidden><div class=\"sk-item\"><div class=\"sk-estimator sk-toggleable\"><input class=\"sk-toggleable__control sk-hidden--visually\" id=\"sk-estimator-id-1\" type=\"checkbox\" checked><label for=\"sk-estimator-id-1\" class=\"sk-toggleable__label sk-toggleable__label-arrow\">SVC</label><div class=\"sk-toggleable__content\"><pre>SVC(kernel=&#x27;linear&#x27;, random_state=42)</pre></div></div></div></div></div>"
            ]
          },
          "metadata": {},
          "execution_count": 251
        }
      ]
    },
    {
      "cell_type": "code",
      "source": [],
      "metadata": {
        "id": "4gVth0cH5B3y"
      },
      "execution_count": null,
      "outputs": []
    },
    {
      "cell_type": "code",
      "source": [
        "# Predict the labels for the testing data\n",
        "# This step uses the trained classifier to predict the domain labels for the testing data."
      ],
      "metadata": {
        "id": "uxHHqQ0A5B6e"
      },
      "execution_count": null,
      "outputs": []
    },
    {
      "cell_type": "code",
      "source": [
        "y_pred = svm_classifier.predict(X_test_tfidf)"
      ],
      "metadata": {
        "id": "tFltYDVv5B9Q"
      },
      "execution_count": null,
      "outputs": []
    },
    {
      "cell_type": "code",
      "source": [],
      "metadata": {
        "id": "IYz-hxTr5TMl"
      },
      "execution_count": null,
      "outputs": []
    },
    {
      "cell_type": "code",
      "source": [
        "# Calculate the accuracy of the classifier\n",
        "# Accuracy is a measure of the model's performance, indicating the proportion of correctly classified instances in the testing data.\n"
      ],
      "metadata": {
        "id": "Xc3A6ys55TQY"
      },
      "execution_count": null,
      "outputs": []
    },
    {
      "cell_type": "code",
      "source": [
        "accuracy = accuracy_score(y_test, y_pred)  # Calculate accuracy by comparing predicted labels with actual labels"
      ],
      "metadata": {
        "id": "Kfppyv8f5TTj"
      },
      "execution_count": null,
      "outputs": []
    },
    {
      "cell_type": "code",
      "source": [
        "print(\"Accuracy:\", accuracy)  # Print the accuracy of the classifier"
      ],
      "metadata": {
        "colab": {
          "base_uri": "https://localhost:8080/"
        },
        "id": "q-awkCoP5TWg",
        "outputId": "3ceca86d-5623-4d2e-eb38-37b345489716"
      },
      "execution_count": null,
      "outputs": [
        {
          "output_type": "stream",
          "name": "stdout",
          "text": [
            "Accuracy: 0.9897488745457504\n"
          ]
        }
      ]
    },
    {
      "cell_type": "code",
      "source": [],
      "metadata": {
        "id": "I5qgGuCD5B_w"
      },
      "execution_count": null,
      "outputs": []
    },
    {
      "cell_type": "code",
      "source": [],
      "metadata": {
        "id": "2Q2oU1OD5CCQ"
      },
      "execution_count": null,
      "outputs": []
    }
  ]
}